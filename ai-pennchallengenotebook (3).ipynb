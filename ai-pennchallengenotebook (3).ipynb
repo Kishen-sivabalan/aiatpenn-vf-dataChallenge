{
 "cells": [
  {
   "cell_type": "markdown",
   "metadata": {
    "papermill": {
     "duration": 0.031092,
     "end_time": "2021-03-14T03:00:57.773999",
     "exception": false,
     "start_time": "2021-03-14T03:00:57.742907",
     "status": "completed"
    },
    "tags": []
   },
   "source": [
    "# AI@Penn Venture Fellows Spring 2021 Data Challenge\n",
    "\n",
    "## Instructions\n",
    "As a part of your application to the AI@Penn Venture Fellows program, you are required to complete a data challenge. The data challenge is designed to understand your thought process when working with a data/ML oriented problem. You are given data on listings from Airbnb (found here: https://www.kaggle.com/kritikseth/us-airbnb-open-data) and your task is to create a 3-5 page presentation (to be submitted as a PDF) outlining your findings, analysis, and any recommendations. \n",
    "The topic and structure of your analysis is fully up to you. Potential areas for investigation are as follows: \n",
    "1. Build a model to predict the price of an Airbnb listing \n",
    "a. How accurate is your model? What characteristics drive a higher price? \n",
    "2. Give a deeper insight into Airbnb listings \n",
    "a. Exploratory analysis to understand the mix and characteristics of Airbnb listings \n",
    "\n",
    "Once you have completed the challenge, please submit your code and presentation on the application form. This challenge is due along with the application on 12th February 2021.\n",
    "\n"
   ]
  },
  {
   "cell_type": "markdown",
   "metadata": {
    "papermill": {
     "duration": 0.027532,
     "end_time": "2021-03-14T03:00:57.832758",
     "exception": false,
     "start_time": "2021-03-14T03:00:57.805226",
     "status": "completed"
    },
    "tags": []
   },
   "source": [
    "## Introduction\n",
    "\n",
    "With the given instructions, I will be working toward a mix of suggested areas of investigation 1 & 2, where I will attempt to identify features which have a stronger influence on Price than others (using some exploratory analysis), and use these features to build a model to predict price. Lastly I will look at my model's accuracy and write a brief summary"
   ]
  },
  {
   "cell_type": "markdown",
   "metadata": {
    "papermill": {
     "duration": 0.027751,
     "end_time": "2021-03-14T03:00:57.887690",
     "exception": false,
     "start_time": "2021-03-14T03:00:57.859939",
     "status": "completed"
    },
    "tags": []
   },
   "source": [
    "### **1. Importing Libraries and loading the dataset:**\n",
    "+ I'm also on a kaggle notebook which comes with infrastructure to directly load datasets in from within kaggle.\n"
   ]
  },
  {
   "cell_type": "code",
   "execution_count": 1,
   "metadata": {
    "_cell_guid": "b1076dfc-b9ad-4769-8c92-a6c4dae69d19",
    "_uuid": "8f2839f25d086af736a60e9eeb907d3b93b6e0e5",
    "execution": {
     "iopub.execute_input": "2021-03-14T03:00:57.950346Z",
     "iopub.status.busy": "2021-03-14T03:00:57.949464Z",
     "iopub.status.idle": "2021-03-14T03:00:59.294025Z",
     "shell.execute_reply": "2021-03-14T03:00:59.293221Z"
    },
    "papermill": {
     "duration": 1.378796,
     "end_time": "2021-03-14T03:00:59.294237",
     "exception": false,
     "start_time": "2021-03-14T03:00:57.915441",
     "status": "completed"
    },
    "tags": []
   },
   "outputs": [
    {
     "name": "stdout",
     "output_type": "stream",
     "text": [
      "/kaggle/input/us-airbnb-open-data/AB_US_2020.csv\n"
     ]
    }
   ],
   "source": [
    "import numpy as np\n",
    "import pandas as pd \n",
    "import seaborn as sns\n",
    "import matplotlib.pyplot as plt\n",
    "import folium\n",
    "\n",
    "import os\n",
    "for dirname, _, filenames in os.walk('/kaggle/input'):\n",
    "    for filename in filenames:\n",
    "        print(os.path.join(dirname, filename))\n"
   ]
  },
  {
   "cell_type": "code",
   "execution_count": 2,
   "metadata": {
    "execution": {
     "iopub.execute_input": "2021-03-14T03:00:59.356583Z",
     "iopub.status.busy": "2021-03-14T03:00:59.355694Z",
     "iopub.status.idle": "2021-03-14T03:01:01.250501Z",
     "shell.execute_reply": "2021-03-14T03:01:01.249573Z"
    },
    "papermill": {
     "duration": 1.927874,
     "end_time": "2021-03-14T03:01:01.250741",
     "exception": false,
     "start_time": "2021-03-14T03:00:59.322867",
     "status": "completed"
    },
    "tags": []
   },
   "outputs": [
    {
     "name": "stderr",
     "output_type": "stream",
     "text": [
      "/opt/conda/lib/python3.7/site-packages/IPython/core/interactiveshell.py:3147: DtypeWarning: Columns (4) have mixed types.Specify dtype option on import or set low_memory=False.\n",
      "  interactivity=interactivity, compiler=compiler, result=result)\n"
     ]
    }
   ],
   "source": [
    "data = pd.read_csv('../input/us-airbnb-open-data/AB_US_2020.csv')"
   ]
  },
  {
   "cell_type": "markdown",
   "metadata": {
    "papermill": {
     "duration": 0.027115,
     "end_time": "2021-03-14T03:01:01.307929",
     "exception": false,
     "start_time": "2021-03-14T03:01:01.280814",
     "status": "completed"
    },
    "tags": []
   },
   "source": [
    "### 2. Taking a basic view of the data\n",
    "At face value, we have a number of columns, both containing certain features as well as identifiers (host id, name, etc). Since we are attempting to identify features that correlate with price, I am just going to remove all these identifies but one -- we'll keep id to mark rows as distinct, but we dont need much more (host id/ host name/ name) beyond that"
   ]
  },
  {
   "cell_type": "code",
   "execution_count": 3,
   "metadata": {
    "execution": {
     "iopub.execute_input": "2021-03-14T03:01:01.378592Z",
     "iopub.status.busy": "2021-03-14T03:01:01.376609Z",
     "iopub.status.idle": "2021-03-14T03:01:01.412472Z",
     "shell.execute_reply": "2021-03-14T03:01:01.411873Z"
    },
    "papermill": {
     "duration": 0.077052,
     "end_time": "2021-03-14T03:01:01.412665",
     "exception": false,
     "start_time": "2021-03-14T03:01:01.335613",
     "status": "completed"
    },
    "tags": []
   },
   "outputs": [
    {
     "data": {
      "text/html": [
       "<div>\n",
       "<style scoped>\n",
       "    .dataframe tbody tr th:only-of-type {\n",
       "        vertical-align: middle;\n",
       "    }\n",
       "\n",
       "    .dataframe tbody tr th {\n",
       "        vertical-align: top;\n",
       "    }\n",
       "\n",
       "    .dataframe thead th {\n",
       "        text-align: right;\n",
       "    }\n",
       "</style>\n",
       "<table border=\"1\" class=\"dataframe\">\n",
       "  <thead>\n",
       "    <tr style=\"text-align: right;\">\n",
       "      <th></th>\n",
       "      <th>id</th>\n",
       "      <th>name</th>\n",
       "      <th>host_id</th>\n",
       "      <th>host_name</th>\n",
       "      <th>neighbourhood_group</th>\n",
       "      <th>neighbourhood</th>\n",
       "      <th>latitude</th>\n",
       "      <th>longitude</th>\n",
       "      <th>room_type</th>\n",
       "      <th>price</th>\n",
       "      <th>minimum_nights</th>\n",
       "      <th>number_of_reviews</th>\n",
       "      <th>last_review</th>\n",
       "      <th>reviews_per_month</th>\n",
       "      <th>calculated_host_listings_count</th>\n",
       "      <th>availability_365</th>\n",
       "      <th>city</th>\n",
       "    </tr>\n",
       "  </thead>\n",
       "  <tbody>\n",
       "    <tr>\n",
       "      <th>0</th>\n",
       "      <td>38585</td>\n",
       "      <td>Charming Victorian home - twin beds + breakfast</td>\n",
       "      <td>165529</td>\n",
       "      <td>Evelyne</td>\n",
       "      <td>NaN</td>\n",
       "      <td>28804</td>\n",
       "      <td>35.65146</td>\n",
       "      <td>-82.62792</td>\n",
       "      <td>Private room</td>\n",
       "      <td>60</td>\n",
       "      <td>1</td>\n",
       "      <td>138</td>\n",
       "      <td>16/02/20</td>\n",
       "      <td>1.14</td>\n",
       "      <td>1</td>\n",
       "      <td>0</td>\n",
       "      <td>Asheville</td>\n",
       "    </tr>\n",
       "    <tr>\n",
       "      <th>1</th>\n",
       "      <td>80905</td>\n",
       "      <td>French Chic Loft</td>\n",
       "      <td>427027</td>\n",
       "      <td>Celeste</td>\n",
       "      <td>NaN</td>\n",
       "      <td>28801</td>\n",
       "      <td>35.59779</td>\n",
       "      <td>-82.55540</td>\n",
       "      <td>Entire home/apt</td>\n",
       "      <td>470</td>\n",
       "      <td>1</td>\n",
       "      <td>114</td>\n",
       "      <td>07/09/20</td>\n",
       "      <td>1.03</td>\n",
       "      <td>11</td>\n",
       "      <td>288</td>\n",
       "      <td>Asheville</td>\n",
       "    </tr>\n",
       "    <tr>\n",
       "      <th>2</th>\n",
       "      <td>108061</td>\n",
       "      <td>Walk to stores/parks/downtown. Fenced yard/Pet...</td>\n",
       "      <td>320564</td>\n",
       "      <td>Lisa</td>\n",
       "      <td>NaN</td>\n",
       "      <td>28801</td>\n",
       "      <td>35.60670</td>\n",
       "      <td>-82.55563</td>\n",
       "      <td>Entire home/apt</td>\n",
       "      <td>75</td>\n",
       "      <td>30</td>\n",
       "      <td>89</td>\n",
       "      <td>30/11/19</td>\n",
       "      <td>0.81</td>\n",
       "      <td>2</td>\n",
       "      <td>298</td>\n",
       "      <td>Asheville</td>\n",
       "    </tr>\n",
       "    <tr>\n",
       "      <th>3</th>\n",
       "      <td>155305</td>\n",
       "      <td>Cottage! BonPaul + Sharky's Hostel</td>\n",
       "      <td>746673</td>\n",
       "      <td>BonPaul</td>\n",
       "      <td>NaN</td>\n",
       "      <td>28806</td>\n",
       "      <td>35.57864</td>\n",
       "      <td>-82.59578</td>\n",
       "      <td>Entire home/apt</td>\n",
       "      <td>90</td>\n",
       "      <td>1</td>\n",
       "      <td>267</td>\n",
       "      <td>22/09/20</td>\n",
       "      <td>2.39</td>\n",
       "      <td>5</td>\n",
       "      <td>0</td>\n",
       "      <td>Asheville</td>\n",
       "    </tr>\n",
       "    <tr>\n",
       "      <th>4</th>\n",
       "      <td>160594</td>\n",
       "      <td>Historic Grove Park</td>\n",
       "      <td>769252</td>\n",
       "      <td>Elizabeth</td>\n",
       "      <td>NaN</td>\n",
       "      <td>28801</td>\n",
       "      <td>35.61442</td>\n",
       "      <td>-82.54127</td>\n",
       "      <td>Private room</td>\n",
       "      <td>125</td>\n",
       "      <td>30</td>\n",
       "      <td>58</td>\n",
       "      <td>19/10/15</td>\n",
       "      <td>0.52</td>\n",
       "      <td>1</td>\n",
       "      <td>0</td>\n",
       "      <td>Asheville</td>\n",
       "    </tr>\n",
       "  </tbody>\n",
       "</table>\n",
       "</div>"
      ],
      "text/plain": [
       "       id                                               name  host_id  \\\n",
       "0   38585    Charming Victorian home - twin beds + breakfast   165529   \n",
       "1   80905                                   French Chic Loft   427027   \n",
       "2  108061  Walk to stores/parks/downtown. Fenced yard/Pet...   320564   \n",
       "3  155305                 Cottage! BonPaul + Sharky's Hostel   746673   \n",
       "4  160594                                Historic Grove Park   769252   \n",
       "\n",
       "   host_name neighbourhood_group neighbourhood  latitude  longitude  \\\n",
       "0    Evelyne                 NaN         28804  35.65146  -82.62792   \n",
       "1    Celeste                 NaN         28801  35.59779  -82.55540   \n",
       "2       Lisa                 NaN         28801  35.60670  -82.55563   \n",
       "3    BonPaul                 NaN         28806  35.57864  -82.59578   \n",
       "4  Elizabeth                 NaN         28801  35.61442  -82.54127   \n",
       "\n",
       "         room_type  price  minimum_nights  number_of_reviews last_review  \\\n",
       "0     Private room     60               1                138    16/02/20   \n",
       "1  Entire home/apt    470               1                114    07/09/20   \n",
       "2  Entire home/apt     75              30                 89    30/11/19   \n",
       "3  Entire home/apt     90               1                267    22/09/20   \n",
       "4     Private room    125              30                 58    19/10/15   \n",
       "\n",
       "   reviews_per_month  calculated_host_listings_count  availability_365  \\\n",
       "0               1.14                               1                 0   \n",
       "1               1.03                              11               288   \n",
       "2               0.81                               2               298   \n",
       "3               2.39                               5                 0   \n",
       "4               0.52                               1                 0   \n",
       "\n",
       "        city  \n",
       "0  Asheville  \n",
       "1  Asheville  \n",
       "2  Asheville  \n",
       "3  Asheville  \n",
       "4  Asheville  "
      ]
     },
     "execution_count": 3,
     "metadata": {},
     "output_type": "execute_result"
    }
   ],
   "source": [
    "data.head()"
   ]
  },
  {
   "cell_type": "code",
   "execution_count": 4,
   "metadata": {
    "execution": {
     "iopub.execute_input": "2021-03-14T03:01:01.507284Z",
     "iopub.status.busy": "2021-03-14T03:01:01.506238Z",
     "iopub.status.idle": "2021-03-14T03:01:01.526648Z",
     "shell.execute_reply": "2021-03-14T03:01:01.525971Z"
    },
    "papermill": {
     "duration": 0.085696,
     "end_time": "2021-03-14T03:01:01.526808",
     "exception": false,
     "start_time": "2021-03-14T03:01:01.441112",
     "status": "completed"
    },
    "tags": []
   },
   "outputs": [
    {
     "data": {
      "text/html": [
       "<div>\n",
       "<style scoped>\n",
       "    .dataframe tbody tr th:only-of-type {\n",
       "        vertical-align: middle;\n",
       "    }\n",
       "\n",
       "    .dataframe tbody tr th {\n",
       "        vertical-align: top;\n",
       "    }\n",
       "\n",
       "    .dataframe thead th {\n",
       "        text-align: right;\n",
       "    }\n",
       "</style>\n",
       "<table border=\"1\" class=\"dataframe\">\n",
       "  <thead>\n",
       "    <tr style=\"text-align: right;\">\n",
       "      <th></th>\n",
       "      <th>id</th>\n",
       "      <th>neighbourhood_group</th>\n",
       "      <th>neighbourhood</th>\n",
       "      <th>latitude</th>\n",
       "      <th>longitude</th>\n",
       "      <th>room_type</th>\n",
       "      <th>price</th>\n",
       "      <th>minimum_nights</th>\n",
       "      <th>number_of_reviews</th>\n",
       "      <th>last_review</th>\n",
       "      <th>reviews_per_month</th>\n",
       "      <th>calculated_host_listings_count</th>\n",
       "      <th>availability_365</th>\n",
       "      <th>city</th>\n",
       "    </tr>\n",
       "  </thead>\n",
       "  <tbody>\n",
       "    <tr>\n",
       "      <th>0</th>\n",
       "      <td>38585</td>\n",
       "      <td>NaN</td>\n",
       "      <td>28804</td>\n",
       "      <td>35.651460</td>\n",
       "      <td>-82.627920</td>\n",
       "      <td>Private room</td>\n",
       "      <td>60</td>\n",
       "      <td>1</td>\n",
       "      <td>138</td>\n",
       "      <td>16/02/20</td>\n",
       "      <td>1.14</td>\n",
       "      <td>1</td>\n",
       "      <td>0</td>\n",
       "      <td>Asheville</td>\n",
       "    </tr>\n",
       "    <tr>\n",
       "      <th>1</th>\n",
       "      <td>80905</td>\n",
       "      <td>NaN</td>\n",
       "      <td>28801</td>\n",
       "      <td>35.597790</td>\n",
       "      <td>-82.555400</td>\n",
       "      <td>Entire home/apt</td>\n",
       "      <td>470</td>\n",
       "      <td>1</td>\n",
       "      <td>114</td>\n",
       "      <td>07/09/20</td>\n",
       "      <td>1.03</td>\n",
       "      <td>11</td>\n",
       "      <td>288</td>\n",
       "      <td>Asheville</td>\n",
       "    </tr>\n",
       "    <tr>\n",
       "      <th>2</th>\n",
       "      <td>108061</td>\n",
       "      <td>NaN</td>\n",
       "      <td>28801</td>\n",
       "      <td>35.606700</td>\n",
       "      <td>-82.555630</td>\n",
       "      <td>Entire home/apt</td>\n",
       "      <td>75</td>\n",
       "      <td>30</td>\n",
       "      <td>89</td>\n",
       "      <td>30/11/19</td>\n",
       "      <td>0.81</td>\n",
       "      <td>2</td>\n",
       "      <td>298</td>\n",
       "      <td>Asheville</td>\n",
       "    </tr>\n",
       "    <tr>\n",
       "      <th>3</th>\n",
       "      <td>155305</td>\n",
       "      <td>NaN</td>\n",
       "      <td>28806</td>\n",
       "      <td>35.578640</td>\n",
       "      <td>-82.595780</td>\n",
       "      <td>Entire home/apt</td>\n",
       "      <td>90</td>\n",
       "      <td>1</td>\n",
       "      <td>267</td>\n",
       "      <td>22/09/20</td>\n",
       "      <td>2.39</td>\n",
       "      <td>5</td>\n",
       "      <td>0</td>\n",
       "      <td>Asheville</td>\n",
       "    </tr>\n",
       "    <tr>\n",
       "      <th>4</th>\n",
       "      <td>160594</td>\n",
       "      <td>NaN</td>\n",
       "      <td>28801</td>\n",
       "      <td>35.614420</td>\n",
       "      <td>-82.541270</td>\n",
       "      <td>Private room</td>\n",
       "      <td>125</td>\n",
       "      <td>30</td>\n",
       "      <td>58</td>\n",
       "      <td>19/10/15</td>\n",
       "      <td>0.52</td>\n",
       "      <td>1</td>\n",
       "      <td>0</td>\n",
       "      <td>Asheville</td>\n",
       "    </tr>\n",
       "    <tr>\n",
       "      <th>...</th>\n",
       "      <td>...</td>\n",
       "      <td>...</td>\n",
       "      <td>...</td>\n",
       "      <td>...</td>\n",
       "      <td>...</td>\n",
       "      <td>...</td>\n",
       "      <td>...</td>\n",
       "      <td>...</td>\n",
       "      <td>...</td>\n",
       "      <td>...</td>\n",
       "      <td>...</td>\n",
       "      <td>...</td>\n",
       "      <td>...</td>\n",
       "      <td>...</td>\n",
       "    </tr>\n",
       "    <tr>\n",
       "      <th>226025</th>\n",
       "      <td>45506143</td>\n",
       "      <td>NaN</td>\n",
       "      <td>Downtown, Chinatown, Penn Quarters, Mount Vern...</td>\n",
       "      <td>38.903880</td>\n",
       "      <td>-77.029730</td>\n",
       "      <td>Entire home/apt</td>\n",
       "      <td>104</td>\n",
       "      <td>1</td>\n",
       "      <td>0</td>\n",
       "      <td>NaN</td>\n",
       "      <td>NaN</td>\n",
       "      <td>2</td>\n",
       "      <td>99</td>\n",
       "      <td>Washington D.C.</td>\n",
       "    </tr>\n",
       "    <tr>\n",
       "      <th>226026</th>\n",
       "      <td>45511428</td>\n",
       "      <td>NaN</td>\n",
       "      <td>Brookland, Brentwood, Langdon</td>\n",
       "      <td>38.920820</td>\n",
       "      <td>-76.990980</td>\n",
       "      <td>Entire home/apt</td>\n",
       "      <td>151</td>\n",
       "      <td>2</td>\n",
       "      <td>0</td>\n",
       "      <td>NaN</td>\n",
       "      <td>NaN</td>\n",
       "      <td>1</td>\n",
       "      <td>300</td>\n",
       "      <td>Washington D.C.</td>\n",
       "    </tr>\n",
       "    <tr>\n",
       "      <th>226027</th>\n",
       "      <td>45514685</td>\n",
       "      <td>NaN</td>\n",
       "      <td>Shaw, Logan Circle</td>\n",
       "      <td>38.911170</td>\n",
       "      <td>-77.033540</td>\n",
       "      <td>Entire home/apt</td>\n",
       "      <td>240</td>\n",
       "      <td>2</td>\n",
       "      <td>0</td>\n",
       "      <td>NaN</td>\n",
       "      <td>NaN</td>\n",
       "      <td>1</td>\n",
       "      <td>173</td>\n",
       "      <td>Washington D.C.</td>\n",
       "    </tr>\n",
       "    <tr>\n",
       "      <th>226028</th>\n",
       "      <td>45516412</td>\n",
       "      <td>NaN</td>\n",
       "      <td>Kalorama Heights, Adams Morgan, Lanier Heights</td>\n",
       "      <td>38.926630</td>\n",
       "      <td>-77.044360</td>\n",
       "      <td>Entire home/apt</td>\n",
       "      <td>60</td>\n",
       "      <td>21</td>\n",
       "      <td>0</td>\n",
       "      <td>NaN</td>\n",
       "      <td>NaN</td>\n",
       "      <td>5</td>\n",
       "      <td>362</td>\n",
       "      <td>Washington D.C.</td>\n",
       "    </tr>\n",
       "    <tr>\n",
       "      <th>226029</th>\n",
       "      <td>45517735</td>\n",
       "      <td>NaN</td>\n",
       "      <td>Edgewood, Bloomingdale, Truxton Circle, Eckington</td>\n",
       "      <td>38.911569</td>\n",
       "      <td>-77.009431</td>\n",
       "      <td>Entire home/apt</td>\n",
       "      <td>79</td>\n",
       "      <td>7</td>\n",
       "      <td>0</td>\n",
       "      <td>NaN</td>\n",
       "      <td>NaN</td>\n",
       "      <td>2</td>\n",
       "      <td>62</td>\n",
       "      <td>Washington D.C.</td>\n",
       "    </tr>\n",
       "  </tbody>\n",
       "</table>\n",
       "<p>226030 rows × 14 columns</p>\n",
       "</div>"
      ],
      "text/plain": [
       "              id neighbourhood_group  \\\n",
       "0          38585                 NaN   \n",
       "1          80905                 NaN   \n",
       "2         108061                 NaN   \n",
       "3         155305                 NaN   \n",
       "4         160594                 NaN   \n",
       "...          ...                 ...   \n",
       "226025  45506143                 NaN   \n",
       "226026  45511428                 NaN   \n",
       "226027  45514685                 NaN   \n",
       "226028  45516412                 NaN   \n",
       "226029  45517735                 NaN   \n",
       "\n",
       "                                            neighbourhood   latitude  \\\n",
       "0                                                   28804  35.651460   \n",
       "1                                                   28801  35.597790   \n",
       "2                                                   28801  35.606700   \n",
       "3                                                   28806  35.578640   \n",
       "4                                                   28801  35.614420   \n",
       "...                                                   ...        ...   \n",
       "226025  Downtown, Chinatown, Penn Quarters, Mount Vern...  38.903880   \n",
       "226026                      Brookland, Brentwood, Langdon  38.920820   \n",
       "226027                                 Shaw, Logan Circle  38.911170   \n",
       "226028     Kalorama Heights, Adams Morgan, Lanier Heights  38.926630   \n",
       "226029  Edgewood, Bloomingdale, Truxton Circle, Eckington  38.911569   \n",
       "\n",
       "        longitude        room_type  price  minimum_nights  number_of_reviews  \\\n",
       "0      -82.627920     Private room     60               1                138   \n",
       "1      -82.555400  Entire home/apt    470               1                114   \n",
       "2      -82.555630  Entire home/apt     75              30                 89   \n",
       "3      -82.595780  Entire home/apt     90               1                267   \n",
       "4      -82.541270     Private room    125              30                 58   \n",
       "...           ...              ...    ...             ...                ...   \n",
       "226025 -77.029730  Entire home/apt    104               1                  0   \n",
       "226026 -76.990980  Entire home/apt    151               2                  0   \n",
       "226027 -77.033540  Entire home/apt    240               2                  0   \n",
       "226028 -77.044360  Entire home/apt     60              21                  0   \n",
       "226029 -77.009431  Entire home/apt     79               7                  0   \n",
       "\n",
       "       last_review  reviews_per_month  calculated_host_listings_count  \\\n",
       "0         16/02/20               1.14                               1   \n",
       "1         07/09/20               1.03                              11   \n",
       "2         30/11/19               0.81                               2   \n",
       "3         22/09/20               2.39                               5   \n",
       "4         19/10/15               0.52                               1   \n",
       "...            ...                ...                             ...   \n",
       "226025         NaN                NaN                               2   \n",
       "226026         NaN                NaN                               1   \n",
       "226027         NaN                NaN                               1   \n",
       "226028         NaN                NaN                               5   \n",
       "226029         NaN                NaN                               2   \n",
       "\n",
       "        availability_365             city  \n",
       "0                      0        Asheville  \n",
       "1                    288        Asheville  \n",
       "2                    298        Asheville  \n",
       "3                      0        Asheville  \n",
       "4                      0        Asheville  \n",
       "...                  ...              ...  \n",
       "226025                99  Washington D.C.  \n",
       "226026               300  Washington D.C.  \n",
       "226027               173  Washington D.C.  \n",
       "226028               362  Washington D.C.  \n",
       "226029                62  Washington D.C.  \n",
       "\n",
       "[226030 rows x 14 columns]"
      ]
     },
     "execution_count": 4,
     "metadata": {},
     "output_type": "execute_result"
    }
   ],
   "source": [
    "data.drop(columns = ['host_id', 'host_name', 'name'])\n"
   ]
  },
  {
   "cell_type": "markdown",
   "metadata": {
    "papermill": {
     "duration": 0.028344,
     "end_time": "2021-03-14T03:01:01.584295",
     "exception": false,
     "start_time": "2021-03-14T03:01:01.555951",
     "status": "completed"
    },
    "tags": []
   },
   "source": [
    "### 3. Separating features based on type\n",
    "\n",
    "For the purposes of being more systematic, we'll break up our features into sets of numerical features and categorical ones, and look at them differently"
   ]
  },
  {
   "cell_type": "code",
   "execution_count": 5,
   "metadata": {
    "execution": {
     "iopub.execute_input": "2021-03-14T03:01:01.674003Z",
     "iopub.status.busy": "2021-03-14T03:01:01.673244Z",
     "iopub.status.idle": "2021-03-14T03:01:01.680245Z",
     "shell.execute_reply": "2021-03-14T03:01:01.679686Z"
    },
    "papermill": {
     "duration": 0.067311,
     "end_time": "2021-03-14T03:01:01.680407",
     "exception": false,
     "start_time": "2021-03-14T03:01:01.613096",
     "status": "completed"
    },
    "tags": []
   },
   "outputs": [],
   "source": [
    "categorical_data = data[['id', 'neighbourhood_group', 'room_type', 'city', 'price']]\n",
    "numerical_data = data[['id', 'latitude', 'longitude', 'neighbourhood',  'minimum_nights', 'number_of_reviews', 'last_review', 'reviews_per_month'\\\n",
    "                       , 'calculated_host_listings_count', 'availability_365', 'price']]"
   ]
  },
  {
   "cell_type": "markdown",
   "metadata": {
    "papermill": {
     "duration": 0.028697,
     "end_time": "2021-03-14T03:01:01.737850",
     "exception": false,
     "start_time": "2021-03-14T03:01:01.709153",
     "status": "completed"
    },
    "tags": []
   },
   "source": [
    "### 4. Categorical Features\n",
    "\n",
    "Lets look at our categorical features! We'll be working with them first, since they are significantly smaller in terms of the number of features"
   ]
  },
  {
   "cell_type": "code",
   "execution_count": 6,
   "metadata": {
    "execution": {
     "iopub.execute_input": "2021-03-14T03:01:01.809506Z",
     "iopub.status.busy": "2021-03-14T03:01:01.808569Z",
     "iopub.status.idle": "2021-03-14T03:01:01.814096Z",
     "shell.execute_reply": "2021-03-14T03:01:01.814599Z"
    },
    "papermill": {
     "duration": 0.04768,
     "end_time": "2021-03-14T03:01:01.814784",
     "exception": false,
     "start_time": "2021-03-14T03:01:01.767104",
     "status": "completed"
    },
    "tags": []
   },
   "outputs": [
    {
     "data": {
      "text/html": [
       "<div>\n",
       "<style scoped>\n",
       "    .dataframe tbody tr th:only-of-type {\n",
       "        vertical-align: middle;\n",
       "    }\n",
       "\n",
       "    .dataframe tbody tr th {\n",
       "        vertical-align: top;\n",
       "    }\n",
       "\n",
       "    .dataframe thead th {\n",
       "        text-align: right;\n",
       "    }\n",
       "</style>\n",
       "<table border=\"1\" class=\"dataframe\">\n",
       "  <thead>\n",
       "    <tr style=\"text-align: right;\">\n",
       "      <th></th>\n",
       "      <th>id</th>\n",
       "      <th>neighbourhood_group</th>\n",
       "      <th>room_type</th>\n",
       "      <th>city</th>\n",
       "      <th>price</th>\n",
       "    </tr>\n",
       "  </thead>\n",
       "  <tbody>\n",
       "    <tr>\n",
       "      <th>0</th>\n",
       "      <td>38585</td>\n",
       "      <td>NaN</td>\n",
       "      <td>Private room</td>\n",
       "      <td>Asheville</td>\n",
       "      <td>60</td>\n",
       "    </tr>\n",
       "    <tr>\n",
       "      <th>1</th>\n",
       "      <td>80905</td>\n",
       "      <td>NaN</td>\n",
       "      <td>Entire home/apt</td>\n",
       "      <td>Asheville</td>\n",
       "      <td>470</td>\n",
       "    </tr>\n",
       "    <tr>\n",
       "      <th>2</th>\n",
       "      <td>108061</td>\n",
       "      <td>NaN</td>\n",
       "      <td>Entire home/apt</td>\n",
       "      <td>Asheville</td>\n",
       "      <td>75</td>\n",
       "    </tr>\n",
       "    <tr>\n",
       "      <th>3</th>\n",
       "      <td>155305</td>\n",
       "      <td>NaN</td>\n",
       "      <td>Entire home/apt</td>\n",
       "      <td>Asheville</td>\n",
       "      <td>90</td>\n",
       "    </tr>\n",
       "    <tr>\n",
       "      <th>4</th>\n",
       "      <td>160594</td>\n",
       "      <td>NaN</td>\n",
       "      <td>Private room</td>\n",
       "      <td>Asheville</td>\n",
       "      <td>125</td>\n",
       "    </tr>\n",
       "  </tbody>\n",
       "</table>\n",
       "</div>"
      ],
      "text/plain": [
       "       id neighbourhood_group        room_type       city  price\n",
       "0   38585                 NaN     Private room  Asheville     60\n",
       "1   80905                 NaN  Entire home/apt  Asheville    470\n",
       "2  108061                 NaN  Entire home/apt  Asheville     75\n",
       "3  155305                 NaN  Entire home/apt  Asheville     90\n",
       "4  160594                 NaN     Private room  Asheville    125"
      ]
     },
     "execution_count": 6,
     "metadata": {},
     "output_type": "execute_result"
    }
   ],
   "source": [
    "categorical_data.head()"
   ]
  },
  {
   "cell_type": "markdown",
   "metadata": {
    "papermill": {
     "duration": 0.029582,
     "end_time": "2021-03-14T03:01:01.873822",
     "exception": false,
     "start_time": "2021-03-14T03:01:01.844240",
     "status": "completed"
    },
    "tags": []
   },
   "source": [
    "#### 4.1 Room Type\n",
    "\n",
    "Let's start with room types, since that seems simple. At an intuitive level, this should defeinitely have a reasonable impact on price, especially since the type of room has large effects on other factors, such as space, comfort, etc. \n",
    "\n",
    "In the next few cells, I will do the following:\n",
    "\n",
    "+ See if this column contains any null values, and deal with those if necessary.\n",
    "+ Group the data by room_type based on their average price per type\n",
    "+ Visualize this relationship with a simple bar chart (here I will note that skyblue is one of the best colors in plt although no one asked)"
   ]
  },
  {
   "cell_type": "code",
   "execution_count": 7,
   "metadata": {
    "execution": {
     "iopub.execute_input": "2021-03-14T03:01:01.963184Z",
     "iopub.status.busy": "2021-03-14T03:01:01.962198Z",
     "iopub.status.idle": "2021-03-14T03:01:01.969565Z",
     "shell.execute_reply": "2021-03-14T03:01:01.968899Z"
    },
    "papermill": {
     "duration": 0.066365,
     "end_time": "2021-03-14T03:01:01.969707",
     "exception": false,
     "start_time": "2021-03-14T03:01:01.903342",
     "status": "completed"
    },
    "tags": []
   },
   "outputs": [
    {
     "data": {
      "text/plain": [
       "0"
      ]
     },
     "execution_count": 7,
     "metadata": {},
     "output_type": "execute_result"
    }
   ],
   "source": [
    "categorical_data['room_type'].isnull().sum()"
   ]
  },
  {
   "cell_type": "code",
   "execution_count": 8,
   "metadata": {
    "execution": {
     "iopub.execute_input": "2021-03-14T03:01:02.045050Z",
     "iopub.status.busy": "2021-03-14T03:01:02.044097Z",
     "iopub.status.idle": "2021-03-14T03:01:02.091792Z",
     "shell.execute_reply": "2021-03-14T03:01:02.092454Z"
    },
    "papermill": {
     "duration": 0.093193,
     "end_time": "2021-03-14T03:01:02.092634",
     "exception": false,
     "start_time": "2021-03-14T03:01:01.999441",
     "status": "completed"
    },
    "tags": []
   },
   "outputs": [
    {
     "data": {
      "text/html": [
       "<div>\n",
       "<style scoped>\n",
       "    .dataframe tbody tr th:only-of-type {\n",
       "        vertical-align: middle;\n",
       "    }\n",
       "\n",
       "    .dataframe tbody tr th {\n",
       "        vertical-align: top;\n",
       "    }\n",
       "\n",
       "    .dataframe thead th {\n",
       "        text-align: right;\n",
       "    }\n",
       "</style>\n",
       "<table border=\"1\" class=\"dataframe\">\n",
       "  <thead>\n",
       "    <tr style=\"text-align: right;\">\n",
       "      <th></th>\n",
       "      <th>room_type</th>\n",
       "      <th>price</th>\n",
       "    </tr>\n",
       "  </thead>\n",
       "  <tbody>\n",
       "    <tr>\n",
       "      <th>0</th>\n",
       "      <td>Entire home/apt</td>\n",
       "      <td>271.004917</td>\n",
       "    </tr>\n",
       "    <tr>\n",
       "      <th>1</th>\n",
       "      <td>Hotel room</td>\n",
       "      <td>281.096342</td>\n",
       "    </tr>\n",
       "    <tr>\n",
       "      <th>2</th>\n",
       "      <td>Private room</td>\n",
       "      <td>106.807003</td>\n",
       "    </tr>\n",
       "    <tr>\n",
       "      <th>3</th>\n",
       "      <td>Shared room</td>\n",
       "      <td>73.984860</td>\n",
       "    </tr>\n",
       "  </tbody>\n",
       "</table>\n",
       "</div>"
      ],
      "text/plain": [
       "         room_type       price\n",
       "0  Entire home/apt  271.004917\n",
       "1       Hotel room  281.096342\n",
       "2     Private room  106.807003\n",
       "3      Shared room   73.984860"
      ]
     },
     "execution_count": 8,
     "metadata": {},
     "output_type": "execute_result"
    }
   ],
   "source": [
    "room_type_ave = categorical_data.groupby('room_type', as_index=False).mean()[['room_type', 'price']]\n",
    "room_type_ave"
   ]
  },
  {
   "cell_type": "code",
   "execution_count": 9,
   "metadata": {
    "execution": {
     "iopub.execute_input": "2021-03-14T03:01:02.161151Z",
     "iopub.status.busy": "2021-03-14T03:01:02.160436Z",
     "iopub.status.idle": "2021-03-14T03:01:04.294199Z",
     "shell.execute_reply": "2021-03-14T03:01:04.293622Z"
    },
    "papermill": {
     "duration": 2.171093,
     "end_time": "2021-03-14T03:01:04.294407",
     "exception": false,
     "start_time": "2021-03-14T03:01:02.123314",
     "status": "completed"
    },
    "tags": []
   },
   "outputs": [
    {
     "name": "stderr",
     "output_type": "stream",
     "text": [
      "/opt/conda/lib/python3.7/site-packages/seaborn/_decorators.py:43: FutureWarning: Pass the following variables as keyword args: x, y. From version 0.12, the only valid positional argument will be `data`, and passing other arguments without an explicit keyword will result in an error or misinterpretation.\n",
      "  FutureWarning\n"
     ]
    },
    {
     "data": {
      "text/plain": [
       "Text(0.5, 1.0, 'Price based on Room Type')"
      ]
     },
     "execution_count": 9,
     "metadata": {},
     "output_type": "execute_result"
    },
    {
     "data": {
      "image/png": "[encoded data removed]",
      "text/plain": [
       "<Figure size 864x432 with 1 Axes>"
      ]
     },
     "metadata": {
      "needs_background": "light"
     },
     "output_type": "display_data"
    }
   ],
   "source": [
    "plt.figure(figsize=(12,6))\n",
    "sns.barplot('room_type', 'price', data=categorical_data, color='skyblue', edgecolor='steelblue')\n",
    "plt.title('Price based on Room Type')"
   ]
  },
  {
   "cell_type": "markdown",
   "metadata": {
    "papermill": {
     "duration": 0.032982,
     "end_time": "2021-03-14T03:01:04.361286",
     "exception": false,
     "start_time": "2021-03-14T03:01:04.328304",
     "status": "completed"
    },
    "tags": []
   },
   "source": [
    "We can clearly see here, as predicted, that the type of room seems to have an effect on the price of that room.\n",
    "\n",
    "#### 4.2 City\n",
    "\n",
    "Now lets see if the city has a noticeable effect on price. But before that, lets identify how dense the number of entries per city are. Then we can visualize both of these relationships"
   ]
  },
  {
   "cell_type": "code",
   "execution_count": 10,
   "metadata": {
    "execution": {
     "iopub.execute_input": "2021-03-14T03:01:04.476873Z",
     "iopub.status.busy": "2021-03-14T03:01:04.451884Z",
     "iopub.status.idle": "2021-03-14T03:01:05.205234Z",
     "shell.execute_reply": "2021-03-14T03:01:05.204535Z"
    },
    "papermill": {
     "duration": 0.810843,
     "end_time": "2021-03-14T03:01:05.205421",
     "exception": false,
     "start_time": "2021-03-14T03:01:04.394578",
     "status": "completed"
    },
    "tags": []
   },
   "outputs": [
    {
     "data": {
      "text/plain": [
       "<AxesSubplot:xlabel='city', ylabel='Price'>"
      ]
     },
     "execution_count": 10,
     "metadata": {},
     "output_type": "execute_result"
    },
    {
     "data": {
      "image/png": "[encoded data removed]",
      "text/plain": [
       "<Figure size 1152x576 with 2 Axes>"
      ]
     },
     "metadata": {
      "needs_background": "light"
     },
     "output_type": "display_data"
    }
   ],
   "source": [
    "a,b = plt.subplots(1,2, figsize=(16,8))\n",
    "city_count = categorical_data.groupby('city', as_index=False).size()\n",
    "city_count.plot.bar(x='city', y='size', ax=b[0], ylabel='Size')\n",
    "city_ave = categorical_data.groupby('city', as_index=False).mean()[['city', 'price']]\n",
    "city_ave.plot.bar(x='city', y='price', ax=b[1], color='orange', ylabel='Price')"
   ]
  },
  {
   "cell_type": "markdown",
   "metadata": {
    "papermill": {
     "duration": 0.033606,
     "end_time": "2021-03-14T03:01:05.273493",
     "exception": false,
     "start_time": "2021-03-14T03:01:05.239887",
     "status": "completed"
    },
    "tags": []
   },
   "source": [
    "#### 4.3 Neighbourhood Group\n",
    "\n",
    "Honestly this feature is pretty similar to the city of the listings, but it seems from a first view of the data that this column will present a problem in terms of null entries. So let's test this theory out"
   ]
  },
  {
   "cell_type": "code",
   "execution_count": 11,
   "metadata": {
    "execution": {
     "iopub.execute_input": "2021-03-14T03:01:05.364222Z",
     "iopub.status.busy": "2021-03-14T03:01:05.363185Z",
     "iopub.status.idle": "2021-03-14T03:01:05.372007Z",
     "shell.execute_reply": "2021-03-14T03:01:05.371230Z"
    },
    "papermill": {
     "duration": 0.064932,
     "end_time": "2021-03-14T03:01:05.372210",
     "exception": false,
     "start_time": "2021-03-14T03:01:05.307278",
     "status": "completed"
    },
    "tags": []
   },
   "outputs": [
    {
     "data": {
      "text/plain": [
       "0.5125204618855904"
      ]
     },
     "execution_count": 11,
     "metadata": {},
     "output_type": "execute_result"
    }
   ],
   "source": [
    "categorical_data['neighbourhood_group'].isnull().sum() / len(categorical_data['neighbourhood_group'])"
   ]
  },
  {
   "cell_type": "markdown",
   "metadata": {
    "papermill": {
     "duration": 0.034548,
     "end_time": "2021-03-14T03:01:05.442277",
     "exception": false,
     "start_time": "2021-03-14T03:01:05.407729",
     "status": "completed"
    },
    "tags": []
   },
   "source": [
    "And well we are right here, because it turns out that over half the entries in our dataset don't contain a value for 'neighbourhood group'. We can look at the relationship it shares with price, but because of its similarity to the city feature (they both represent some facet of location albeit a city is larger), we will likely use the cities of listings over neighbourhood groups in our model since it contains more values to train our model\n"
   ]
  },
  {
   "cell_type": "code",
   "execution_count": 12,
   "metadata": {
    "execution": {
     "iopub.execute_input": "2021-03-14T03:01:05.537093Z",
     "iopub.status.busy": "2021-03-14T03:01:05.518871Z",
     "iopub.status.idle": "2021-03-14T03:01:05.982906Z",
     "shell.execute_reply": "2021-03-14T03:01:05.982128Z"
    },
    "papermill": {
     "duration": 0.505541,
     "end_time": "2021-03-14T03:01:05.983087",
     "exception": false,
     "start_time": "2021-03-14T03:01:05.477546",
     "status": "completed"
    },
    "tags": []
   },
   "outputs": [
    {
     "data": {
      "text/plain": [
       "<AxesSubplot:>"
      ]
     },
     "execution_count": 12,
     "metadata": {},
     "output_type": "execute_result"
    },
    {
     "data": {
      "image/png": "[encoded data removed]",
      "text/plain": [
       "<Figure size 864x432 with 1 Axes>"
      ]
     },
     "metadata": {
      "needs_background": "light"
     },
     "output_type": "display_data"
    }
   ],
   "source": [
    "#dropping null values\n",
    "neighbourhood_group_dropna = categorical_data.dropna(subset=['neighbourhood_group']).\\\n",
    "groupby('neighbourhood_group', as_index=False).mean()[['neighbourhood_group', 'price']]\n",
    "neighbourhood_group_dropna.plot(kind='bar', figsize=(12,6))"
   ]
  },
  {
   "cell_type": "markdown",
   "metadata": {
    "papermill": {
     "duration": 0.037527,
     "end_time": "2021-03-14T03:01:06.057156",
     "exception": false,
     "start_time": "2021-03-14T03:01:06.019629",
     "status": "completed"
    },
    "tags": []
   },
   "source": [
    "## 5. Numerical Features\n",
    "\n",
    "Lets begin off the bat by using a correlation matrix, to see at first glance if there are any strong relationships between numeric features and price"
   ]
  },
  {
   "cell_type": "code",
   "execution_count": 13,
   "metadata": {
    "execution": {
     "iopub.execute_input": "2021-03-14T03:01:06.147540Z",
     "iopub.status.busy": "2021-03-14T03:01:06.146495Z",
     "iopub.status.idle": "2021-03-14T03:01:06.151617Z",
     "shell.execute_reply": "2021-03-14T03:01:06.150934Z"
    },
    "papermill": {
     "duration": 0.058238,
     "end_time": "2021-03-14T03:01:06.151779",
     "exception": false,
     "start_time": "2021-03-14T03:01:06.093541",
     "status": "completed"
    },
    "tags": []
   },
   "outputs": [
    {
     "data": {
      "text/html": [
       "<div>\n",
       "<style scoped>\n",
       "    .dataframe tbody tr th:only-of-type {\n",
       "        vertical-align: middle;\n",
       "    }\n",
       "\n",
       "    .dataframe tbody tr th {\n",
       "        vertical-align: top;\n",
       "    }\n",
       "\n",
       "    .dataframe thead th {\n",
       "        text-align: right;\n",
       "    }\n",
       "</style>\n",
       "<table border=\"1\" class=\"dataframe\">\n",
       "  <thead>\n",
       "    <tr style=\"text-align: right;\">\n",
       "      <th></th>\n",
       "      <th>id</th>\n",
       "      <th>latitude</th>\n",
       "      <th>longitude</th>\n",
       "      <th>neighbourhood</th>\n",
       "      <th>minimum_nights</th>\n",
       "      <th>number_of_reviews</th>\n",
       "      <th>last_review</th>\n",
       "      <th>reviews_per_month</th>\n",
       "      <th>calculated_host_listings_count</th>\n",
       "      <th>availability_365</th>\n",
       "      <th>price</th>\n",
       "    </tr>\n",
       "  </thead>\n",
       "  <tbody>\n",
       "    <tr>\n",
       "      <th>0</th>\n",
       "      <td>38585</td>\n",
       "      <td>35.65146</td>\n",
       "      <td>-82.62792</td>\n",
       "      <td>28804</td>\n",
       "      <td>1</td>\n",
       "      <td>138</td>\n",
       "      <td>16/02/20</td>\n",
       "      <td>1.14</td>\n",
       "      <td>1</td>\n",
       "      <td>0</td>\n",
       "      <td>60</td>\n",
       "    </tr>\n",
       "    <tr>\n",
       "      <th>1</th>\n",
       "      <td>80905</td>\n",
       "      <td>35.59779</td>\n",
       "      <td>-82.55540</td>\n",
       "      <td>28801</td>\n",
       "      <td>1</td>\n",
       "      <td>114</td>\n",
       "      <td>07/09/20</td>\n",
       "      <td>1.03</td>\n",
       "      <td>11</td>\n",
       "      <td>288</td>\n",
       "      <td>470</td>\n",
       "    </tr>\n",
       "    <tr>\n",
       "      <th>2</th>\n",
       "      <td>108061</td>\n",
       "      <td>35.60670</td>\n",
       "      <td>-82.55563</td>\n",
       "      <td>28801</td>\n",
       "      <td>30</td>\n",
       "      <td>89</td>\n",
       "      <td>30/11/19</td>\n",
       "      <td>0.81</td>\n",
       "      <td>2</td>\n",
       "      <td>298</td>\n",
       "      <td>75</td>\n",
       "    </tr>\n",
       "    <tr>\n",
       "      <th>3</th>\n",
       "      <td>155305</td>\n",
       "      <td>35.57864</td>\n",
       "      <td>-82.59578</td>\n",
       "      <td>28806</td>\n",
       "      <td>1</td>\n",
       "      <td>267</td>\n",
       "      <td>22/09/20</td>\n",
       "      <td>2.39</td>\n",
       "      <td>5</td>\n",
       "      <td>0</td>\n",
       "      <td>90</td>\n",
       "    </tr>\n",
       "    <tr>\n",
       "      <th>4</th>\n",
       "      <td>160594</td>\n",
       "      <td>35.61442</td>\n",
       "      <td>-82.54127</td>\n",
       "      <td>28801</td>\n",
       "      <td>30</td>\n",
       "      <td>58</td>\n",
       "      <td>19/10/15</td>\n",
       "      <td>0.52</td>\n",
       "      <td>1</td>\n",
       "      <td>0</td>\n",
       "      <td>125</td>\n",
       "    </tr>\n",
       "  </tbody>\n",
       "</table>\n",
       "</div>"
      ],
      "text/plain": [
       "       id  latitude  longitude neighbourhood  minimum_nights  \\\n",
       "0   38585  35.65146  -82.62792         28804               1   \n",
       "1   80905  35.59779  -82.55540         28801               1   \n",
       "2  108061  35.60670  -82.55563         28801              30   \n",
       "3  155305  35.57864  -82.59578         28806               1   \n",
       "4  160594  35.61442  -82.54127         28801              30   \n",
       "\n",
       "   number_of_reviews last_review  reviews_per_month  \\\n",
       "0                138    16/02/20               1.14   \n",
       "1                114    07/09/20               1.03   \n",
       "2                 89    30/11/19               0.81   \n",
       "3                267    22/09/20               2.39   \n",
       "4                 58    19/10/15               0.52   \n",
       "\n",
       "   calculated_host_listings_count  availability_365  price  \n",
       "0                               1                 0     60  \n",
       "1                              11               288    470  \n",
       "2                               2               298     75  \n",
       "3                               5                 0     90  \n",
       "4                               1                 0    125  "
      ]
     },
     "execution_count": 13,
     "metadata": {},
     "output_type": "execute_result"
    }
   ],
   "source": [
    "numerical_data.head()"
   ]
  },
  {
   "cell_type": "code",
   "execution_count": 14,
   "metadata": {
    "execution": {
     "iopub.execute_input": "2021-03-14T03:01:06.244808Z",
     "iopub.status.busy": "2021-03-14T03:01:06.244029Z",
     "iopub.status.idle": "2021-03-14T03:01:06.349701Z",
     "shell.execute_reply": "2021-03-14T03:01:06.349045Z"
    },
    "papermill": {
     "duration": 0.161374,
     "end_time": "2021-03-14T03:01:06.349864",
     "exception": false,
     "start_time": "2021-03-14T03:01:06.188490",
     "status": "completed"
    },
    "tags": []
   },
   "outputs": [
    {
     "data": {
      "text/html": [
       "<div>\n",
       "<style scoped>\n",
       "    .dataframe tbody tr th:only-of-type {\n",
       "        vertical-align: middle;\n",
       "    }\n",
       "\n",
       "    .dataframe tbody tr th {\n",
       "        vertical-align: top;\n",
       "    }\n",
       "\n",
       "    .dataframe thead th {\n",
       "        text-align: right;\n",
       "    }\n",
       "</style>\n",
       "<table border=\"1\" class=\"dataframe\">\n",
       "  <thead>\n",
       "    <tr style=\"text-align: right;\">\n",
       "      <th></th>\n",
       "      <th>id</th>\n",
       "      <th>latitude</th>\n",
       "      <th>longitude</th>\n",
       "      <th>minimum_nights</th>\n",
       "      <th>number_of_reviews</th>\n",
       "      <th>reviews_per_month</th>\n",
       "      <th>calculated_host_listings_count</th>\n",
       "      <th>availability_365</th>\n",
       "      <th>price</th>\n",
       "    </tr>\n",
       "  </thead>\n",
       "  <tbody>\n",
       "    <tr>\n",
       "      <th>count</th>\n",
       "      <td>2.260300e+05</td>\n",
       "      <td>226030.000000</td>\n",
       "      <td>226030.000000</td>\n",
       "      <td>2.260300e+05</td>\n",
       "      <td>226030.000000</td>\n",
       "      <td>177428.00000</td>\n",
       "      <td>226030.000000</td>\n",
       "      <td>226030.000000</td>\n",
       "      <td>226030.000000</td>\n",
       "    </tr>\n",
       "    <tr>\n",
       "      <th>mean</th>\n",
       "      <td>2.547176e+07</td>\n",
       "      <td>35.662829</td>\n",
       "      <td>-103.220662</td>\n",
       "      <td>4.525490e+02</td>\n",
       "      <td>34.506530</td>\n",
       "      <td>1.43145</td>\n",
       "      <td>16.698562</td>\n",
       "      <td>159.314856</td>\n",
       "      <td>219.716529</td>\n",
       "    </tr>\n",
       "    <tr>\n",
       "      <th>std</th>\n",
       "      <td>1.317814e+07</td>\n",
       "      <td>6.849855</td>\n",
       "      <td>26.222091</td>\n",
       "      <td>2.103376e+05</td>\n",
       "      <td>63.602914</td>\n",
       "      <td>1.68321</td>\n",
       "      <td>51.068966</td>\n",
       "      <td>140.179628</td>\n",
       "      <td>570.353609</td>\n",
       "    </tr>\n",
       "    <tr>\n",
       "      <th>min</th>\n",
       "      <td>1.090000e+02</td>\n",
       "      <td>18.920990</td>\n",
       "      <td>-159.714900</td>\n",
       "      <td>1.000000e+00</td>\n",
       "      <td>0.000000</td>\n",
       "      <td>0.01000</td>\n",
       "      <td>1.000000</td>\n",
       "      <td>0.000000</td>\n",
       "      <td>0.000000</td>\n",
       "    </tr>\n",
       "    <tr>\n",
       "      <th>25%</th>\n",
       "      <td>1.515890e+07</td>\n",
       "      <td>32.761783</td>\n",
       "      <td>-118.598115</td>\n",
       "      <td>1.000000e+00</td>\n",
       "      <td>1.000000</td>\n",
       "      <td>0.23000</td>\n",
       "      <td>1.000000</td>\n",
       "      <td>0.000000</td>\n",
       "      <td>75.000000</td>\n",
       "    </tr>\n",
       "    <tr>\n",
       "      <th>50%</th>\n",
       "      <td>2.590916e+07</td>\n",
       "      <td>37.261125</td>\n",
       "      <td>-97.817200</td>\n",
       "      <td>2.000000e+00</td>\n",
       "      <td>8.000000</td>\n",
       "      <td>0.81000</td>\n",
       "      <td>2.000000</td>\n",
       "      <td>140.000000</td>\n",
       "      <td>121.000000</td>\n",
       "    </tr>\n",
       "    <tr>\n",
       "      <th>75%</th>\n",
       "      <td>3.772624e+07</td>\n",
       "      <td>40.724038</td>\n",
       "      <td>-76.919322</td>\n",
       "      <td>7.000000e+00</td>\n",
       "      <td>39.000000</td>\n",
       "      <td>2.06000</td>\n",
       "      <td>6.000000</td>\n",
       "      <td>311.000000</td>\n",
       "      <td>201.000000</td>\n",
       "    </tr>\n",
       "    <tr>\n",
       "      <th>max</th>\n",
       "      <td>4.556085e+07</td>\n",
       "      <td>47.734620</td>\n",
       "      <td>-70.995950</td>\n",
       "      <td>1.000000e+08</td>\n",
       "      <td>966.000000</td>\n",
       "      <td>44.06000</td>\n",
       "      <td>593.000000</td>\n",
       "      <td>365.000000</td>\n",
       "      <td>24999.000000</td>\n",
       "    </tr>\n",
       "  </tbody>\n",
       "</table>\n",
       "</div>"
      ],
      "text/plain": [
       "                 id       latitude      longitude  minimum_nights  \\\n",
       "count  2.260300e+05  226030.000000  226030.000000    2.260300e+05   \n",
       "mean   2.547176e+07      35.662829    -103.220662    4.525490e+02   \n",
       "std    1.317814e+07       6.849855      26.222091    2.103376e+05   \n",
       "min    1.090000e+02      18.920990    -159.714900    1.000000e+00   \n",
       "25%    1.515890e+07      32.761783    -118.598115    1.000000e+00   \n",
       "50%    2.590916e+07      37.261125     -97.817200    2.000000e+00   \n",
       "75%    3.772624e+07      40.724038     -76.919322    7.000000e+00   \n",
       "max    4.556085e+07      47.734620     -70.995950    1.000000e+08   \n",
       "\n",
       "       number_of_reviews  reviews_per_month  calculated_host_listings_count  \\\n",
       "count      226030.000000       177428.00000                   226030.000000   \n",
       "mean           34.506530            1.43145                       16.698562   \n",
       "std            63.602914            1.68321                       51.068966   \n",
       "min             0.000000            0.01000                        1.000000   \n",
       "25%             1.000000            0.23000                        1.000000   \n",
       "50%             8.000000            0.81000                        2.000000   \n",
       "75%            39.000000            2.06000                        6.000000   \n",
       "max           966.000000           44.06000                      593.000000   \n",
       "\n",
       "       availability_365          price  \n",
       "count     226030.000000  226030.000000  \n",
       "mean         159.314856     219.716529  \n",
       "std          140.179628     570.353609  \n",
       "min            0.000000       0.000000  \n",
       "25%            0.000000      75.000000  \n",
       "50%          140.000000     121.000000  \n",
       "75%          311.000000     201.000000  \n",
       "max          365.000000   24999.000000  "
      ]
     },
     "execution_count": 14,
     "metadata": {},
     "output_type": "execute_result"
    }
   ],
   "source": [
    "numerical_data.describe()"
   ]
  },
  {
   "cell_type": "code",
   "execution_count": 15,
   "metadata": {
    "execution": {
     "iopub.execute_input": "2021-03-14T03:01:06.433691Z",
     "iopub.status.busy": "2021-03-14T03:01:06.432111Z",
     "iopub.status.idle": "2021-03-14T03:01:06.861650Z",
     "shell.execute_reply": "2021-03-14T03:01:06.860967Z"
    },
    "papermill": {
     "duration": 0.474298,
     "end_time": "2021-03-14T03:01:06.861832",
     "exception": false,
     "start_time": "2021-03-14T03:01:06.387534",
     "status": "completed"
    },
    "tags": []
   },
   "outputs": [
    {
     "data": {
      "text/plain": [
       "<AxesSubplot:>"
      ]
     },
     "execution_count": 15,
     "metadata": {},
     "output_type": "execute_result"
    },
    {
     "data": {
      "image/png": "[encoded data removed]",
      "text/plain": [
       "<Figure size 864x432 with 2 Axes>"
      ]
     },
     "metadata": {
      "needs_background": "light"
     },
     "output_type": "display_data"
    }
   ],
   "source": [
    "plt.figure(figsize=(12,6))\n",
    "sns.heatmap(numerical_data.corr(),cmap='YlGnBu')\n"
   ]
  },
  {
   "cell_type": "markdown",
   "metadata": {
    "papermill": {
     "duration": 0.038538,
     "end_time": "2021-03-14T03:01:06.940000",
     "exception": false,
     "start_time": "2021-03-14T03:01:06.901462",
     "status": "completed"
    },
    "tags": []
   },
   "source": [
    "It doesn't seem that there are any features that stick out immediately in terms of their relationship with price, which is fine. We will look at these factors individually anyway"
   ]
  },
  {
   "cell_type": "markdown",
   "metadata": {
    "papermill": {
     "duration": 0.038921,
     "end_time": "2021-03-14T03:01:07.017599",
     "exception": false,
     "start_time": "2021-03-14T03:01:06.978678",
     "status": "completed"
    },
    "tags": []
   },
   "source": [
    "#### 5.1 Minimum Nights\n",
    "Let's start by looking at minimum nights. Lets first look at the spread of the data. Then, I'll group up values of the min nights column into 10 bins, to make visualization easier"
   ]
  },
  {
   "cell_type": "code",
   "execution_count": 16,
   "metadata": {
    "execution": {
     "iopub.execute_input": "2021-03-14T03:01:07.120077Z",
     "iopub.status.busy": "2021-03-14T03:01:07.113167Z",
     "iopub.status.idle": "2021-03-14T03:01:07.371543Z",
     "shell.execute_reply": "2021-03-14T03:01:07.372067Z"
    },
    "papermill": {
     "duration": 0.31548,
     "end_time": "2021-03-14T03:01:07.372293",
     "exception": false,
     "start_time": "2021-03-14T03:01:07.056813",
     "status": "completed"
    },
    "tags": []
   },
   "outputs": [
    {
     "data": {
      "text/plain": [
       "<AxesSubplot:xlabel='minimum_nights', ylabel='price'>"
      ]
     },
     "execution_count": 16,
     "metadata": {},
     "output_type": "execute_result"
    },
    {
     "data": {
      "image/png": "[encoded data removed]",
      "text/plain": [
       "<Figure size 432x288 with 1 Axes>"
      ]
     },
     "metadata": {
      "needs_background": "light"
     },
     "output_type": "display_data"
    }
   ],
   "source": [
    "min_nights_spread=numerical_data.groupby('minimum_nights', as_index = False).count()[['minimum_nights', 'price']]\n",
    "sns.scatterplot(x = 'minimum_nights', y='price', data=min_nights_spread)"
   ]
  },
  {
   "cell_type": "code",
   "execution_count": 17,
   "metadata": {
    "execution": {
     "iopub.execute_input": "2021-03-14T03:01:07.464237Z",
     "iopub.status.busy": "2021-03-14T03:01:07.463114Z",
     "iopub.status.idle": "2021-03-14T03:01:07.483284Z",
     "shell.execute_reply": "2021-03-14T03:01:07.482632Z"
    },
    "papermill": {
     "duration": 0.070487,
     "end_time": "2021-03-14T03:01:07.483472",
     "exception": false,
     "start_time": "2021-03-14T03:01:07.412985",
     "status": "completed"
    },
    "tags": []
   },
   "outputs": [],
   "source": [
    "#removing outlier \n",
    "drop_set = numerical_data[numerical_data['minimum_nights'] > 10**7]\n",
    "numerical_data = numerical_data.drop(drop_set.index)"
   ]
  },
  {
   "cell_type": "code",
   "execution_count": 18,
   "metadata": {
    "execution": {
     "iopub.execute_input": "2021-03-14T03:01:07.584851Z",
     "iopub.status.busy": "2021-03-14T03:01:07.579001Z",
     "iopub.status.idle": "2021-03-14T03:01:07.733854Z",
     "shell.execute_reply": "2021-03-14T03:01:07.733232Z"
    },
    "papermill": {
     "duration": 0.210161,
     "end_time": "2021-03-14T03:01:07.734029",
     "exception": false,
     "start_time": "2021-03-14T03:01:07.523868",
     "status": "completed"
    },
    "tags": []
   },
   "outputs": [
    {
     "data": {
      "text/html": [
       "<div>\n",
       "<style scoped>\n",
       "    .dataframe tbody tr th:only-of-type {\n",
       "        vertical-align: middle;\n",
       "    }\n",
       "\n",
       "    .dataframe tbody tr th {\n",
       "        vertical-align: top;\n",
       "    }\n",
       "\n",
       "    .dataframe thead th {\n",
       "        text-align: right;\n",
       "    }\n",
       "</style>\n",
       "<table border=\"1\" class=\"dataframe\">\n",
       "  <thead>\n",
       "    <tr style=\"text-align: right;\">\n",
       "      <th></th>\n",
       "      <th>id</th>\n",
       "      <th>latitude</th>\n",
       "      <th>longitude</th>\n",
       "      <th>neighbourhood</th>\n",
       "      <th>minimum_nights</th>\n",
       "      <th>number_of_reviews</th>\n",
       "      <th>last_review</th>\n",
       "      <th>reviews_per_month</th>\n",
       "      <th>calculated_host_listings_count</th>\n",
       "      <th>availability_365</th>\n",
       "      <th>price</th>\n",
       "      <th>min_nights_ave_bins</th>\n",
       "    </tr>\n",
       "  </thead>\n",
       "  <tbody>\n",
       "    <tr>\n",
       "      <th>0</th>\n",
       "      <td>38585</td>\n",
       "      <td>35.651460</td>\n",
       "      <td>-82.627920</td>\n",
       "      <td>28804</td>\n",
       "      <td>1</td>\n",
       "      <td>138</td>\n",
       "      <td>16/02/20</td>\n",
       "      <td>1.14</td>\n",
       "      <td>1</td>\n",
       "      <td>0</td>\n",
       "      <td>60</td>\n",
       "      <td>(1.0, 18.0]</td>\n",
       "    </tr>\n",
       "    <tr>\n",
       "      <th>1</th>\n",
       "      <td>80905</td>\n",
       "      <td>35.597790</td>\n",
       "      <td>-82.555400</td>\n",
       "      <td>28801</td>\n",
       "      <td>1</td>\n",
       "      <td>114</td>\n",
       "      <td>07/09/20</td>\n",
       "      <td>1.03</td>\n",
       "      <td>11</td>\n",
       "      <td>288</td>\n",
       "      <td>470</td>\n",
       "      <td>(1.0, 18.0]</td>\n",
       "    </tr>\n",
       "    <tr>\n",
       "      <th>2</th>\n",
       "      <td>108061</td>\n",
       "      <td>35.606700</td>\n",
       "      <td>-82.555630</td>\n",
       "      <td>28801</td>\n",
       "      <td>30</td>\n",
       "      <td>89</td>\n",
       "      <td>30/11/19</td>\n",
       "      <td>0.81</td>\n",
       "      <td>2</td>\n",
       "      <td>298</td>\n",
       "      <td>75</td>\n",
       "      <td>(1.0, 18.0]</td>\n",
       "    </tr>\n",
       "    <tr>\n",
       "      <th>3</th>\n",
       "      <td>155305</td>\n",
       "      <td>35.578640</td>\n",
       "      <td>-82.595780</td>\n",
       "      <td>28806</td>\n",
       "      <td>1</td>\n",
       "      <td>267</td>\n",
       "      <td>22/09/20</td>\n",
       "      <td>2.39</td>\n",
       "      <td>5</td>\n",
       "      <td>0</td>\n",
       "      <td>90</td>\n",
       "      <td>(1.0, 18.0]</td>\n",
       "    </tr>\n",
       "    <tr>\n",
       "      <th>4</th>\n",
       "      <td>160594</td>\n",
       "      <td>35.614420</td>\n",
       "      <td>-82.541270</td>\n",
       "      <td>28801</td>\n",
       "      <td>30</td>\n",
       "      <td>58</td>\n",
       "      <td>19/10/15</td>\n",
       "      <td>0.52</td>\n",
       "      <td>1</td>\n",
       "      <td>0</td>\n",
       "      <td>125</td>\n",
       "      <td>(1.0, 18.0]</td>\n",
       "    </tr>\n",
       "    <tr>\n",
       "      <th>...</th>\n",
       "      <td>...</td>\n",
       "      <td>...</td>\n",
       "      <td>...</td>\n",
       "      <td>...</td>\n",
       "      <td>...</td>\n",
       "      <td>...</td>\n",
       "      <td>...</td>\n",
       "      <td>...</td>\n",
       "      <td>...</td>\n",
       "      <td>...</td>\n",
       "      <td>...</td>\n",
       "      <td>...</td>\n",
       "    </tr>\n",
       "    <tr>\n",
       "      <th>226025</th>\n",
       "      <td>45506143</td>\n",
       "      <td>38.903880</td>\n",
       "      <td>-77.029730</td>\n",
       "      <td>Downtown, Chinatown, Penn Quarters, Mount Vern...</td>\n",
       "      <td>1</td>\n",
       "      <td>0</td>\n",
       "      <td>NaN</td>\n",
       "      <td>NaN</td>\n",
       "      <td>2</td>\n",
       "      <td>99</td>\n",
       "      <td>104</td>\n",
       "      <td>NaN</td>\n",
       "    </tr>\n",
       "    <tr>\n",
       "      <th>226026</th>\n",
       "      <td>45511428</td>\n",
       "      <td>38.920820</td>\n",
       "      <td>-76.990980</td>\n",
       "      <td>Brookland, Brentwood, Langdon</td>\n",
       "      <td>2</td>\n",
       "      <td>0</td>\n",
       "      <td>NaN</td>\n",
       "      <td>NaN</td>\n",
       "      <td>1</td>\n",
       "      <td>300</td>\n",
       "      <td>151</td>\n",
       "      <td>NaN</td>\n",
       "    </tr>\n",
       "    <tr>\n",
       "      <th>226027</th>\n",
       "      <td>45514685</td>\n",
       "      <td>38.911170</td>\n",
       "      <td>-77.033540</td>\n",
       "      <td>Shaw, Logan Circle</td>\n",
       "      <td>2</td>\n",
       "      <td>0</td>\n",
       "      <td>NaN</td>\n",
       "      <td>NaN</td>\n",
       "      <td>1</td>\n",
       "      <td>173</td>\n",
       "      <td>240</td>\n",
       "      <td>NaN</td>\n",
       "    </tr>\n",
       "    <tr>\n",
       "      <th>226028</th>\n",
       "      <td>45516412</td>\n",
       "      <td>38.926630</td>\n",
       "      <td>-77.044360</td>\n",
       "      <td>Kalorama Heights, Adams Morgan, Lanier Heights</td>\n",
       "      <td>21</td>\n",
       "      <td>0</td>\n",
       "      <td>NaN</td>\n",
       "      <td>NaN</td>\n",
       "      <td>5</td>\n",
       "      <td>362</td>\n",
       "      <td>60</td>\n",
       "      <td>NaN</td>\n",
       "    </tr>\n",
       "    <tr>\n",
       "      <th>226029</th>\n",
       "      <td>45517735</td>\n",
       "      <td>38.911569</td>\n",
       "      <td>-77.009431</td>\n",
       "      <td>Edgewood, Bloomingdale, Truxton Circle, Eckington</td>\n",
       "      <td>7</td>\n",
       "      <td>0</td>\n",
       "      <td>NaN</td>\n",
       "      <td>NaN</td>\n",
       "      <td>2</td>\n",
       "      <td>62</td>\n",
       "      <td>79</td>\n",
       "      <td>NaN</td>\n",
       "    </tr>\n",
       "  </tbody>\n",
       "</table>\n",
       "<p>226029 rows × 12 columns</p>\n",
       "</div>"
      ],
      "text/plain": [
       "              id   latitude  longitude  \\\n",
       "0          38585  35.651460 -82.627920   \n",
       "1          80905  35.597790 -82.555400   \n",
       "2         108061  35.606700 -82.555630   \n",
       "3         155305  35.578640 -82.595780   \n",
       "4         160594  35.614420 -82.541270   \n",
       "...          ...        ...        ...   \n",
       "226025  45506143  38.903880 -77.029730   \n",
       "226026  45511428  38.920820 -76.990980   \n",
       "226027  45514685  38.911170 -77.033540   \n",
       "226028  45516412  38.926630 -77.044360   \n",
       "226029  45517735  38.911569 -77.009431   \n",
       "\n",
       "                                            neighbourhood  minimum_nights  \\\n",
       "0                                                   28804               1   \n",
       "1                                                   28801               1   \n",
       "2                                                   28801              30   \n",
       "3                                                   28806               1   \n",
       "4                                                   28801              30   \n",
       "...                                                   ...             ...   \n",
       "226025  Downtown, Chinatown, Penn Quarters, Mount Vern...               1   \n",
       "226026                      Brookland, Brentwood, Langdon               2   \n",
       "226027                                 Shaw, Logan Circle               2   \n",
       "226028     Kalorama Heights, Adams Morgan, Lanier Heights              21   \n",
       "226029  Edgewood, Bloomingdale, Truxton Circle, Eckington               7   \n",
       "\n",
       "        number_of_reviews last_review  reviews_per_month  \\\n",
       "0                     138    16/02/20               1.14   \n",
       "1                     114    07/09/20               1.03   \n",
       "2                      89    30/11/19               0.81   \n",
       "3                     267    22/09/20               2.39   \n",
       "4                      58    19/10/15               0.52   \n",
       "...                   ...         ...                ...   \n",
       "226025                  0         NaN                NaN   \n",
       "226026                  0         NaN                NaN   \n",
       "226027                  0         NaN                NaN   \n",
       "226028                  0         NaN                NaN   \n",
       "226029                  0         NaN                NaN   \n",
       "\n",
       "        calculated_host_listings_count  availability_365  price  \\\n",
       "0                                    1                 0     60   \n",
       "1                                   11               288    470   \n",
       "2                                    2               298     75   \n",
       "3                                    5                 0     90   \n",
       "4                                    1                 0    125   \n",
       "...                                ...               ...    ...   \n",
       "226025                               2                99    104   \n",
       "226026                               1               300    151   \n",
       "226027                               1               173    240   \n",
       "226028                               5               362     60   \n",
       "226029                               2                62     79   \n",
       "\n",
       "       min_nights_ave_bins  \n",
       "0              (1.0, 18.0]  \n",
       "1              (1.0, 18.0]  \n",
       "2              (1.0, 18.0]  \n",
       "3              (1.0, 18.0]  \n",
       "4              (1.0, 18.0]  \n",
       "...                    ...  \n",
       "226025                 NaN  \n",
       "226026                 NaN  \n",
       "226027                 NaN  \n",
       "226028                 NaN  \n",
       "226029                 NaN  \n",
       "\n",
       "[226029 rows x 12 columns]"
      ]
     },
     "execution_count": 18,
     "metadata": {},
     "output_type": "execute_result"
    }
   ],
   "source": [
    "min_nights_ave_count = numerical_data.groupby('minimum_nights', as_index = False).count()\n",
    "min_nights_ave = numerical_data.groupby('minimum_nights', as_index = False).mean()\n",
    "numerical_data['min_nights_ave_bins']= pd.qcut(min_nights_ave['minimum_nights'], q=10, precision=6)\n",
    "numerical_data['min_nights_ave_bins'] = numerical_data['min_nights_ave_bins'].apply(lambda x: pd.Interval(left=int(round(x.left)), right=int(round(x.right))))\n",
    "numerical_data\n",
    "\n",
    "#numerical_data.groupby('min_nights_ave_bins', as_index=False).mean()"
   ]
  },
  {
   "cell_type": "code",
   "execution_count": 19,
   "metadata": {
    "execution": {
     "iopub.execute_input": "2021-03-14T03:01:07.830500Z",
     "iopub.status.busy": "2021-03-14T03:01:07.829470Z",
     "iopub.status.idle": "2021-03-14T03:01:08.398723Z",
     "shell.execute_reply": "2021-03-14T03:01:08.398025Z"
    },
    "papermill": {
     "duration": 0.62361,
     "end_time": "2021-03-14T03:01:08.398901",
     "exception": false,
     "start_time": "2021-03-14T03:01:07.775291",
     "status": "completed"
    },
    "tags": []
   },
   "outputs": [
    {
     "name": "stderr",
     "output_type": "stream",
     "text": [
      "/opt/conda/lib/python3.7/site-packages/seaborn/_decorators.py:43: FutureWarning: Pass the following variables as keyword args: x, y. From version 0.12, the only valid positional argument will be `data`, and passing other arguments without an explicit keyword will result in an error or misinterpretation.\n",
      "  FutureWarning\n"
     ]
    },
    {
     "data": {
      "text/plain": [
       "Text(0.5, 0, 'Minimum Nights')"
      ]
     },
     "execution_count": 19,
     "metadata": {},
     "output_type": "execute_result"
    },
    {
     "data": {
      "image/png": "[encoded data removed]",
      "text/plain": [
       "<Figure size 864x432 with 1 Axes>"
      ]
     },
     "metadata": {
      "needs_background": "light"
     },
     "output_type": "display_data"
    }
   ],
   "source": [
    "plt.figure(figsize=(12,6))\n",
    "ax = sns.barplot('min_nights_ave_bins', 'price', data=numerical_data, color='palegreen', edgecolor='green')\n",
    "#ax.set_xticklabels(['<18','<35','<52','<83','<104','<153', '<200','<300','<396','<100000000'])\n",
    "ax.set_xlabel('Minimum Nights')"
   ]
  },
  {
   "cell_type": "markdown",
   "metadata": {
    "papermill": {
     "duration": 0.042507,
     "end_time": "2021-03-14T03:01:08.484152",
     "exception": false,
     "start_time": "2021-03-14T03:01:08.441645",
     "status": "completed"
    },
    "tags": []
   },
   "source": [
    "There does not seem to be a noticeable trend/ relationship in the data, but we can see that rooms which have minimum nights between ~30 and ~50 days have a higher price on average.\n",
    "\n",
    "\n",
    "#### 5.2 Latitude/Longitude (and neighbourhood)\n",
    "\n",
    "Lets look at how location in terms of latitudes/longitudes affects price. Then we will look at how neighbourhoods compare to latitudes/longitudes in terms of their relationship with price"
   ]
  },
  {
   "cell_type": "code",
   "execution_count": 20,
   "metadata": {
    "execution": {
     "iopub.execute_input": "2021-03-14T03:01:08.579043Z",
     "iopub.status.busy": "2021-03-14T03:01:08.578212Z",
     "iopub.status.idle": "2021-03-14T03:01:17.824104Z",
     "shell.execute_reply": "2021-03-14T03:01:17.823478Z"
    },
    "papermill": {
     "duration": 9.297244,
     "end_time": "2021-03-14T03:01:17.824263",
     "exception": false,
     "start_time": "2021-03-14T03:01:08.527019",
     "status": "completed"
    },
    "tags": []
   },
   "outputs": [
    {
     "data": {
      "text/html": [
       "<div style=\"width:100%;\"><div style=\"position:relative;width:100%;height:0;padding-bottom:60%;\"><span style=\"color:#565656\">Make this Notebook Trusted to load map: File -> Trust Notebook</span><iframe src=\"about:blank\" style=\"position:absolute;width:100%;height:100%;left:0;top:0;border:none !important;\" data-html=%3C%21DOCTYPE%20html%3E%0A%3Chead%3E%20%20%20%20%0A%20%20%20%20%3Cmeta%20http-equiv%3D%22content-type%22%20content%3D%22text/html%3B%20charset%3DUTF-8%22%20/%3E%0A%20%20%20%20%0A%20%20%20%20%20%20%20%20%3Cscript%3E%0A%20%20%20%20%20%20%20%20%20%20%20%20L_NO_TOUCH%20%3D%20false%3B%0A%20%20%20%20%20%20%20%20%20%20%20%20L_DISABLE_3D%20%3D%20false%3B%0A%20%20%20%20%20%20%20%20%3C/script%3E%0A%20%20%20%20%0A%20%20%20%20%3Cstyle%3Ehtml%2C%20body%20%7Bwidth%3A%20100%25%3Bheight%3A%20100%25%3Bmargin%3A%200%3Bpadding%3A%200%3B%7D%3C/style%3E%0A%20%20%20%20%3Cstyle%3E%23map%20%7Bposition%3Aabsolute%3Btop%3A0%3Bbottom%3A0%3Bright%3A0%3Bleft%3A0%3B%7D%3C/style%3E%0A%20%20%20%20%3Cscript%20src%3D%22https%3A//cdn.jsdelivr.net/npm/leaflet%401.6.0/dist/leaflet.js%22%3E%3C/script%3E%0A%20%20%20%20%3Cscript%20src%3D%22https%3A//code.jquery.com/jquery-1.12.4.min.js%22%3E%3C/script%3E%0A%20%20%20%20%3Cscript%20src%3D%22https%3A//maxcdn.bootstrapcdn.com/bootstrap/3.2.0/js/bootstrap.min.js%22%3E%3C/script%3E%0A%20%20%20%20%3Cscript%20src%3D%22https%3A//cdnjs.cloudflare.com/ajax/libs/Leaflet.awesome-markers/2.0.2/leaflet.awesome-markers.js%22%3E%3C/script%3E%0A%20%20%20%20%3Clink%20rel%3D%22stylesheet%22%20href%3D%22https%3A//cdn.jsdelivr.net/npm/leaflet%401.6.0/dist/leaflet.css%22/%3E%0A%20%20%20%20%3Clink%20rel%3D%22stylesheet%22%20href%3D%22https%3A//maxcdn.bootstrapcdn.com/bootstrap/3.2.0/css/bootstrap.min.css%22/%3E%0A%20%20%20%20%3Clink%20rel%3D%22stylesheet%22%20href%3D%22https%3A//maxcdn.bootstrapcdn.com/bootstrap/3.2.0/css/bootstrap-theme.min.css%22/%3E%0A%20%20%20%20%3Clink%20rel%3D%22stylesheet%22%20href%3D%22https%3A//maxcdn.bootstrapcdn.com/font-awesome/4.6.3/css/font-awesome.min.css%22/%3E%0A%20%20%20%20%3Clink%20rel%3D%22stylesheet%22%20href%3D%22https%3A//cdnjs.cloudflare.com/ajax/libs/Leaflet.awesome-markers/2.0.2/leaflet.awesome-markers.css%22/%3E%0A%20%20%20%20%3Clink%20rel%3D%22stylesheet%22%20href%3D%22https%3A//cdn.jsdelivr.net/gh/python-visualization/folium/folium/templates/leaflet.awesome.rotate.min.css%22/%3E%0A%20%20%20%20%0A%20%20%20%20%20%20%20%20%20%20%20%20%3Cmeta%20name%3D%22viewport%22%20content%3D%22width%3Ddevice-width%2C%0A%20%20%20%20%20%20%20%20%20%20%20%20%20%20%20%20initial-scale%3D1.0%2C%20maximum-scale%3D1.0%2C%20user-scalable%3Dno%22%20/%3E%0A%20%20%20%20%20%20%20%20%20%20%20%20%3Cstyle%3E%0A%20%20%20%20%20%20%20%20%20%20%20%20%20%20%20%20%23map_191e9f7888c8418caab5c317c3d61be7%20%7B%0A%20%20%20%20%20%20%20%20%20%20%20%20%20%20%20%20%20%20%20%20position%3A%20relative%3B%0A%20%20%20%20%20%20%20%20%20%20%20%20%20%20%20%20%20%20%20%20width%3A%20100.0%25%3B%0A%20%20%20%20%20%20%20%20%20%20%20%20%20%20%20%20%20%20%20%20height%3A%20100.0%25%3B%0A%20%20%20%20%20%20%20%20%20%20%20%20%20%20%20%20%20%20%20%20left%3A%200.0%25%3B%0A%20%20%20%20%20%20%20%20%20%20%20%20%20%20%20%20%20%20%20%20top%3A%200.0%25%3B%0A%20%20%20%20%20%20%20%20%20%20%20%20%20%20%20%20%7D%0A%20%20%20%20%20%20%20%20%20%20%20%20%3C/style%3E%0A%20%20%20%20%20%20%20%20%0A%3C/head%3E%0A%3Cbody%3E%20%20%20%20%0A%20%20%20%20%0A%20%20%20%20%20%20%20%20%20%20%20%20%3Cdiv%20class%3D%22folium-map%22%20id%3D%22map_191e9f7888c8418caab5c317c3d61be7%22%20%3E%3C/div%3E%0A%20%20%20%20%20%20%20%20%0A%3C/body%3E%0A%3Cscript%3E%20%20%20%20%0A%20%20%20%20%0A%20%20%20%20%20%20%20%20%20%20%20%20var%20map_191e9f7888c8418caab5c317c3d61be7%20%3D%20L.map%28%0A%20%20%20%20%20%20%20%20%20%20%20%20%20%20%20%20%22map_191e9f7888c8418caab5c317c3d61be7%22%2C%0A%20%20%20%20%20%20%20%20%20%20%20%20%20%20%20%20%7B%0A%20%20%20%20%20%20%20%20%20%20%20%20%20%20%20%20%20%20%20%20center%3A%20%5B42.0%2C%20-110.0%5D%2C%0A%20%20%20%20%20%20%20%20%20%20%20%20%20%20%20%20%20%20%20%20crs%3A%20L.CRS.EPSG3857%2C%0A%20%20%20%20%20%20%20%20%20%20%20%20%20%20%20%20%20%20%20%20zoom%3A%204%2C%0A%20%20%20%20%20%20%20%20%20%20%20%20%20%20%20%20%20%20%20%20zoomControl%3A%20true%2C%0A%20%20%20%20%20%20%20%20%20%20%20%20%20%20%20%20%20%20%20%20preferCanvas%3A%20false%2C%0A%20%20%20%20%20%20%20%20%20%20%20%20%20%20%20%20%7D%0A%20%20%20%20%20%20%20%20%20%20%20%20%29%3B%0A%0A%20%20%20%20%20%20%20%20%20%20%20%20%0A%0A%20%20%20%20%20%20%20%20%0A%20%20%20%20%0A%20%20%20%20%20%20%20%20%20%20%20%20var%20tile_layer_de41a217bd0845aeab684f6606d8b92d%20%3D%20L.tileLayer%28%0A%20%20%20%20%20%20%20%20%20%20%20%20%20%20%20%20%22https%3A//%7Bs%7D.tile.openstreetmap.org/%7Bz%7D/%7Bx%7D/%7By%7D.png%22%2C%0A%20%20%20%20%20%20%20%20%20%20%20%20%20%20%20%20%7B%22attribution%22%3A%20%22Data%20by%20%5Cu0026copy%3B%20%5Cu003ca%20href%3D%5C%22http%3A//openstreetmap.org%5C%22%5Cu003eOpenStreetMap%5Cu003c/a%5Cu003e%2C%20under%20%5Cu003ca%20href%3D%5C%22http%3A//www.openstreetmap.org/copyright%5C%22%5Cu003eODbL%5Cu003c/a%5Cu003e.%22%2C%20%22detectRetina%22%3A%20false%2C%20%22maxNativeZoom%22%3A%2018%2C%20%22maxZoom%22%3A%2018%2C%20%22minZoom%22%3A%200%2C%20%22noWrap%22%3A%20false%2C%20%22opacity%22%3A%201%2C%20%22subdomains%22%3A%20%22abc%22%2C%20%22tms%22%3A%20false%7D%0A%20%20%20%20%20%20%20%20%20%20%20%20%29.addTo%28map_191e9f7888c8418caab5c317c3d61be7%29%3B%0A%20%20%20%20%20%20%20%20%0A%20%20%20%20%0A%20%20%20%20%20%20%20%20%20%20%20%20var%20circle_marker_157f5e228c124fcc9ecfe513bb0c6e2e%20%3D%20L.circleMarker%28%0A%20%20%20%20%20%20%20%20%20%20%20%20%20%20%20%20%5B20.897817967964244%2C%20-157.14858927668723%5D%2C%0A%20%20%20%20%20%20%20%20%20%20%20%20%20%20%20%20%7B%22bubblingMouseEvents%22%3A%20true%2C%20%22color%22%3A%20%22%233388ff%22%2C%20%22dashArray%22%3A%20null%2C%20%22dashOffset%22%3A%20null%2C%20%22fill%22%3A%20true%2C%20%22fillColor%22%3A%20%22blue%22%2C%20%22fillOpacity%22%3A%200.2%2C%20%22fillRule%22%3A%20%22evenodd%22%2C%20%22lineCap%22%3A%20%22round%22%2C%20%22lineJoin%22%3A%20%22round%22%2C%20%22opacity%22%3A%201.0%2C%20%22radius%22%3A%2015%2C%20%22stroke%22%3A%20true%2C%20%22weight%22%3A%203%7D%0A%20%20%20%20%20%20%20%20%20%20%20%20%29.addTo%28map_191e9f7888c8418caab5c317c3d61be7%29%3B%0A%20%20%20%20%20%20%20%20%0A%20%20%20%20%0A%20%20%20%20%20%20%20%20var%20popup_8718f1e6bd6c4d9696f9233a836cc68f%20%3D%20L.popup%28%7B%22maxWidth%22%3A%20%22100%25%22%7D%29%3B%0A%0A%20%20%20%20%20%20%20%20%0A%20%20%20%20%20%20%20%20%20%20%20%20var%20html_5603af0f91754514bf10d2f3137020fc%20%3D%20%24%28%60%3Cdiv%20id%3D%22html_5603af0f91754514bf10d2f3137020fc%22%20style%3D%22width%3A%20100.0%25%3B%20height%3A%20100.0%25%3B%22%3E%2821%2C%20-157%29%20%3A%2022434%20listings%20here%3C/div%3E%60%29%5B0%5D%3B%0A%20%20%20%20%20%20%20%20%20%20%20%20popup_8718f1e6bd6c4d9696f9233a836cc68f.setContent%28html_5603af0f91754514bf10d2f3137020fc%29%3B%0A%20%20%20%20%20%20%20%20%0A%0A%20%20%20%20%20%20%20%20circle_marker_157f5e228c124fcc9ecfe513bb0c6e2e.bindPopup%28popup_8718f1e6bd6c4d9696f9233a836cc68f%29%0A%20%20%20%20%20%20%20%20%3B%0A%0A%20%20%20%20%20%20%20%20%0A%20%20%20%20%0A%20%20%20%20%0A%20%20%20%20%20%20%20%20%20%20%20%20var%20circle_marker_ab4f8d3059784c56a0b5cf10841287d5%20%3D%20L.circleMarker%28%0A%20%20%20%20%20%20%20%20%20%20%20%20%20%20%20%20%5B41.01589064803038%2C%20-88.85071588278082%5D%2C%0A%20%20%20%20%20%20%20%20%20%20%20%20%20%20%20%20%7B%22bubblingMouseEvents%22%3A%20true%2C%20%22color%22%3A%20%22%233388ff%22%2C%20%22dashArray%22%3A%20null%2C%20%22dashOffset%22%3A%20null%2C%20%22fill%22%3A%20true%2C%20%22fillColor%22%3A%20%22blue%22%2C%20%22fillOpacity%22%3A%200.2%2C%20%22fillRule%22%3A%20%22evenodd%22%2C%20%22lineCap%22%3A%20%22round%22%2C%20%22lineJoin%22%3A%20%22round%22%2C%20%22opacity%22%3A%201.0%2C%20%22radius%22%3A%2015%2C%20%22stroke%22%3A%20true%2C%20%22weight%22%3A%203%7D%0A%20%20%20%20%20%20%20%20%20%20%20%20%29.addTo%28map_191e9f7888c8418caab5c317c3d61be7%29%3B%0A%20%20%20%20%20%20%20%20%0A%20%20%20%20%0A%20%20%20%20%20%20%20%20var%20popup_bcbf0322fd8c4fb7bcb1512e5a7f6f6f%20%3D%20L.popup%28%7B%22maxWidth%22%3A%20%22100%25%22%7D%29%3B%0A%0A%20%20%20%20%20%20%20%20%0A%20%20%20%20%20%20%20%20%20%20%20%20var%20html_c5658b225a5546e288a5327341848c55%20%3D%20%24%28%60%3Cdiv%20id%3D%22html_c5658b225a5546e288a5327341848c55%22%20style%3D%22width%3A%20100.0%25%3B%20height%3A%20100.0%25%3B%22%3E%2841%2C%20-89%29%20%3A%2020561%20listings%20here%3C/div%3E%60%29%5B0%5D%3B%0A%20%20%20%20%20%20%20%20%20%20%20%20popup_bcbf0322fd8c4fb7bcb1512e5a7f6f6f.setContent%28html_c5658b225a5546e288a5327341848c55%29%3B%0A%20%20%20%20%20%20%20%20%0A%0A%20%20%20%20%20%20%20%20circle_marker_ab4f8d3059784c56a0b5cf10841287d5.bindPopup%28popup_bcbf0322fd8c4fb7bcb1512e5a7f6f6f%29%0A%20%20%20%20%20%20%20%20%3B%0A%0A%20%20%20%20%20%20%20%20%0A%20%20%20%20%0A%20%20%20%20%0A%20%20%20%20%20%20%20%20%20%20%20%20var%20circle_marker_754115b24e2a4d06ba9317aeb26377f9%20%3D%20L.circleMarker%28%0A%20%20%20%20%20%20%20%20%20%20%20%20%20%20%20%20%5B35.10186990677402%2C%20-118.91773167212651%5D%2C%0A%20%20%20%20%20%20%20%20%20%20%20%20%20%20%20%20%7B%22bubblingMouseEvents%22%3A%20true%2C%20%22color%22%3A%20%22%233388ff%22%2C%20%22dashArray%22%3A%20null%2C%20%22dashOffset%22%3A%20null%2C%20%22fill%22%3A%20true%2C%20%22fillColor%22%3A%20%22blue%22%2C%20%22fillOpacity%22%3A%200.2%2C%20%22fillRule%22%3A%20%22evenodd%22%2C%20%22lineCap%22%3A%20%22round%22%2C%20%22lineJoin%22%3A%20%22round%22%2C%20%22opacity%22%3A%201.0%2C%20%22radius%22%3A%2015%2C%20%22stroke%22%3A%20true%2C%20%22weight%22%3A%203%7D%0A%20%20%20%20%20%20%20%20%20%20%20%20%29.addTo%28map_191e9f7888c8418caab5c317c3d61be7%29%3B%0A%20%20%20%20%20%20%20%20%0A%20%20%20%20%0A%20%20%20%20%20%20%20%20var%20popup_0555e57e772448cd86e30865821740a7%20%3D%20L.popup%28%7B%22maxWidth%22%3A%20%22100%25%22%7D%29%3B%0A%0A%20%20%20%20%20%20%20%20%0A%20%20%20%20%20%20%20%20%20%20%20%20var%20html_fbdc86316b934dd4acfd3190a919cc5f%20%3D%20%24%28%60%3Cdiv%20id%3D%22html_fbdc86316b934dd4acfd3190a919cc5f%22%20style%3D%22width%3A%20100.0%25%3B%20height%3A%20100.0%25%3B%22%3E%2835%2C%20-119%29%20%3A%2074300%20listings%20here%3C/div%3E%60%29%5B0%5D%3B%0A%20%20%20%20%20%20%20%20%20%20%20%20popup_0555e57e772448cd86e30865821740a7.setContent%28html_fbdc86316b934dd4acfd3190a919cc5f%29%3B%0A%20%20%20%20%20%20%20%20%0A%0A%20%20%20%20%20%20%20%20circle_marker_754115b24e2a4d06ba9317aeb26377f9.bindPopup%28popup_0555e57e772448cd86e30865821740a7%29%0A%20%20%20%20%20%20%20%20%3B%0A%0A%20%20%20%20%20%20%20%20%0A%20%20%20%20%0A%20%20%20%20%0A%20%20%20%20%20%20%20%20%20%20%20%20var%20circle_marker_b14a9d1ab23f43e38f5fedc04a54edc9%20%3D%20L.circleMarker%28%0A%20%20%20%20%20%20%20%20%20%20%20%20%20%20%20%20%5B40.68175752406462%2C%20-73.95755279191255%5D%2C%0A%20%20%20%20%20%20%20%20%20%20%20%20%20%20%20%20%7B%22bubblingMouseEvents%22%3A%20true%2C%20%22color%22%3A%20%22%233388ff%22%2C%20%22dashArray%22%3A%20null%2C%20%22dashOffset%22%3A%20null%2C%20%22fill%22%3A%20true%2C%20%22fillColor%22%3A%20%22blue%22%2C%20%22fillOpacity%22%3A%200.2%2C%20%22fillRule%22%3A%20%22evenodd%22%2C%20%22lineCap%22%3A%20%22round%22%2C%20%22lineJoin%22%3A%20%22round%22%2C%20%22opacity%22%3A%201.0%2C%20%22radius%22%3A%2015%2C%20%22stroke%22%3A%20true%2C%20%22weight%22%3A%203%7D%0A%20%20%20%20%20%20%20%20%20%20%20%20%29.addTo%28map_191e9f7888c8418caab5c317c3d61be7%29%3B%0A%20%20%20%20%20%20%20%20%0A%20%20%20%20%0A%20%20%20%20%20%20%20%20var%20popup_b81f9a94014c4890be737ba4af06c537%20%3D%20L.popup%28%7B%22maxWidth%22%3A%20%22100%25%22%7D%29%3B%0A%0A%20%20%20%20%20%20%20%20%0A%20%20%20%20%20%20%20%20%20%20%20%20var%20html_feb0f9e39e104adbb93c0343afed44ce%20%3D%20%24%28%60%3Cdiv%20id%3D%22html_feb0f9e39e104adbb93c0343afed44ce%22%20style%3D%22width%3A%20100.0%25%3B%20height%3A%20100.0%25%3B%22%3E%2841%2C%20-74%29%20%3A%2063846%20listings%20here%3C/div%3E%60%29%5B0%5D%3B%0A%20%20%20%20%20%20%20%20%20%20%20%20popup_b81f9a94014c4890be737ba4af06c537.setContent%28html_feb0f9e39e104adbb93c0343afed44ce%29%3B%0A%20%20%20%20%20%20%20%20%0A%0A%20%20%20%20%20%20%20%20circle_marker_b14a9d1ab23f43e38f5fedc04a54edc9.bindPopup%28popup_b81f9a94014c4890be737ba4af06c537%29%0A%20%20%20%20%20%20%20%20%3B%0A%0A%20%20%20%20%20%20%20%20%0A%20%20%20%20%0A%20%20%20%20%0A%20%20%20%20%20%20%20%20%20%20%20%20var%20circle_marker_1e7e9e40a16348d482dc1fb9b5ff4998%20%3D%20L.circleMarker%28%0A%20%20%20%20%20%20%20%20%20%20%20%20%20%20%20%20%5B27.620789382541%2C%20-80.5362197336437%5D%2C%0A%20%20%20%20%20%20%20%20%20%20%20%20%20%20%20%20%7B%22bubblingMouseEvents%22%3A%20true%2C%20%22color%22%3A%20%22%233388ff%22%2C%20%22dashArray%22%3A%20null%2C%20%22dashOffset%22%3A%20null%2C%20%22fill%22%3A%20true%2C%20%22fillColor%22%3A%20%22blue%22%2C%20%22fillOpacity%22%3A%200.2%2C%20%22fillRule%22%3A%20%22evenodd%22%2C%20%22lineCap%22%3A%20%22round%22%2C%20%22lineJoin%22%3A%20%22round%22%2C%20%22opacity%22%3A%201.0%2C%20%22radius%22%3A%2015%2C%20%22stroke%22%3A%20true%2C%20%22weight%22%3A%203%7D%0A%20%20%20%20%20%20%20%20%20%20%20%20%29.addTo%28map_191e9f7888c8418caab5c317c3d61be7%29%3B%0A%20%20%20%20%20%20%20%20%0A%20%20%20%20%0A%20%20%20%20%20%20%20%20var%20popup_0beaf181dedf4da8a2b03c80eec57621%20%3D%20L.popup%28%7B%22maxWidth%22%3A%20%22100%25%22%7D%29%3B%0A%0A%20%20%20%20%20%20%20%20%0A%20%20%20%20%20%20%20%20%20%20%20%20var%20html_408612489380492abfcb5f3e701e4f93%20%3D%20%24%28%60%3Cdiv%20id%3D%22html_408612489380492abfcb5f3e701e4f93%22%20style%3D%22width%3A%20100.0%25%3B%20height%3A%20100.0%25%3B%22%3E%2828%2C%20-81%29%20%3A%2012786%20listings%20here%3C/div%3E%60%29%5B0%5D%3B%0A%20%20%20%20%20%20%20%20%20%20%20%20popup_0beaf181dedf4da8a2b03c80eec57621.setContent%28html_408612489380492abfcb5f3e701e4f93%29%3B%0A%20%20%20%20%20%20%20%20%0A%0A%20%20%20%20%20%20%20%20circle_marker_1e7e9e40a16348d482dc1fb9b5ff4998.bindPopup%28popup_0beaf181dedf4da8a2b03c80eec57621%29%0A%20%20%20%20%20%20%20%20%3B%0A%0A%20%20%20%20%20%20%20%20%0A%20%20%20%20%0A%20%20%20%20%0A%20%20%20%20%20%20%20%20%20%20%20%20var%20circle_marker_0e92d287b8e54790b70f3f07456c864a%20%3D%20L.circleMarker%28%0A%20%20%20%20%20%20%20%20%20%20%20%20%20%20%20%20%5B30.15964906066729%2C%20-94.8319744482035%5D%2C%0A%20%20%20%20%20%20%20%20%20%20%20%20%20%20%20%20%7B%22bubblingMouseEvents%22%3A%20true%2C%20%22color%22%3A%20%22%233388ff%22%2C%20%22dashArray%22%3A%20null%2C%20%22dashOffset%22%3A%20null%2C%20%22fill%22%3A%20true%2C%20%22fillColor%22%3A%20%22blue%22%2C%20%22fillOpacity%22%3A%200.2%2C%20%22fillRule%22%3A%20%22evenodd%22%2C%20%22lineCap%22%3A%20%22round%22%2C%20%22lineJoin%22%3A%20%22round%22%2C%20%22opacity%22%3A%201.0%2C%20%22radius%22%3A%2015%2C%20%22stroke%22%3A%20true%2C%20%22weight%22%3A%203%7D%0A%20%20%20%20%20%20%20%20%20%20%20%20%29.addTo%28map_191e9f7888c8418caab5c317c3d61be7%29%3B%0A%20%20%20%20%20%20%20%20%0A%20%20%20%20%0A%20%20%20%20%20%20%20%20var%20popup_ecbce6d143c74978b291b511bdc29184%20%3D%20L.popup%28%7B%22maxWidth%22%3A%20%22100%25%22%7D%29%3B%0A%0A%20%20%20%20%20%20%20%20%0A%20%20%20%20%20%20%20%20%20%20%20%20var%20html_8b529703a73b4df996796c1033c930e7%20%3D%20%24%28%60%3Cdiv%20id%3D%22html_8b529703a73b4df996796c1033c930e7%22%20style%3D%22width%3A%20100.0%25%3B%20height%3A%20100.0%25%3B%22%3E%2830%2C%20-95%29%20%3A%2016844%20listings%20here%3C/div%3E%60%29%5B0%5D%3B%0A%20%20%20%20%20%20%20%20%20%20%20%20popup_ecbce6d143c74978b291b511bdc29184.setContent%28html_8b529703a73b4df996796c1033c930e7%29%3B%0A%20%20%20%20%20%20%20%20%0A%0A%20%20%20%20%20%20%20%20circle_marker_0e92d287b8e54790b70f3f07456c864a.bindPopup%28popup_ecbce6d143c74978b291b511bdc29184%29%0A%20%20%20%20%20%20%20%20%3B%0A%0A%20%20%20%20%20%20%20%20%0A%20%20%20%20%0A%20%20%20%20%0A%20%20%20%20%20%20%20%20%20%20%20%20var%20circle_marker_409166b1eede453b8f382ab6d3e01bbc%20%3D%20L.circleMarker%28%0A%20%20%20%20%20%20%20%20%20%20%20%20%20%20%20%20%5B46.76445390495021%2C%20-122.46950714190626%5D%2C%0A%20%20%20%20%20%20%20%20%20%20%20%20%20%20%20%20%7B%22bubblingMouseEvents%22%3A%20true%2C%20%22color%22%3A%20%22%233388ff%22%2C%20%22dashArray%22%3A%20null%2C%20%22dashOffset%22%3A%20null%2C%20%22fill%22%3A%20true%2C%20%22fillColor%22%3A%20%22blue%22%2C%20%22fillOpacity%22%3A%200.2%2C%20%22fillRule%22%3A%20%22evenodd%22%2C%20%22lineCap%22%3A%20%22round%22%2C%20%22lineJoin%22%3A%20%22round%22%2C%20%22opacity%22%3A%201.0%2C%20%22radius%22%3A%2015%2C%20%22stroke%22%3A%20true%2C%20%22weight%22%3A%203%7D%0A%20%20%20%20%20%20%20%20%20%20%20%20%29.addTo%28map_191e9f7888c8418caab5c317c3d61be7%29%3B%0A%20%20%20%20%20%20%20%20%0A%20%20%20%20%0A%20%20%20%20%20%20%20%20var%20popup_94ad1ecc6efc45f592164d139f8d85ef%20%3D%20L.popup%28%7B%22maxWidth%22%3A%20%22100%25%22%7D%29%3B%0A%0A%20%20%20%20%20%20%20%20%0A%20%20%20%20%20%20%20%20%20%20%20%20var%20html_1cc26310849f4ba3bafe758624dd8eb1%20%3D%20%24%28%60%3Cdiv%20id%3D%22html_1cc26310849f4ba3bafe758624dd8eb1%22%20style%3D%22width%3A%20100.0%25%3B%20height%3A%20100.0%25%3B%22%3E%2847%2C%20-122%29%20%3A%2011058%20listings%20here%3C/div%3E%60%29%5B0%5D%3B%0A%20%20%20%20%20%20%20%20%20%20%20%20popup_94ad1ecc6efc45f592164d139f8d85ef.setContent%28html_1cc26310849f4ba3bafe758624dd8eb1%29%3B%0A%20%20%20%20%20%20%20%20%0A%0A%20%20%20%20%20%20%20%20circle_marker_409166b1eede453b8f382ab6d3e01bbc.bindPopup%28popup_94ad1ecc6efc45f592164d139f8d85ef%29%0A%20%20%20%20%20%20%20%20%3B%0A%0A%20%20%20%20%20%20%20%20%0A%20%20%20%20%0A%20%20%20%20%0A%20%20%20%20%20%20%20%20%20%20%20%20var%20circle_marker_8de43ca782884e0abb87851f061a6791%20%3D%20L.circleMarker%28%0A%20%20%20%20%20%20%20%20%20%20%20%20%20%20%20%20%5B39.7408520877857%2C%20-104.97419012635714%5D%2C%0A%20%20%20%20%20%20%20%20%20%20%20%20%20%20%20%20%7B%22bubblingMouseEvents%22%3A%20true%2C%20%22color%22%3A%20%22%233388ff%22%2C%20%22dashArray%22%3A%20null%2C%20%22dashOffset%22%3A%20null%2C%20%22fill%22%3A%20true%2C%20%22fillColor%22%3A%20%22blue%22%2C%20%22fillOpacity%22%3A%200.2%2C%20%22fillRule%22%3A%20%22evenodd%22%2C%20%22lineCap%22%3A%20%22round%22%2C%20%22lineJoin%22%3A%20%22round%22%2C%20%22opacity%22%3A%201.0%2C%20%22radius%22%3A%2015%2C%20%22stroke%22%3A%20true%2C%20%22weight%22%3A%203%7D%0A%20%20%20%20%20%20%20%20%20%20%20%20%29.addTo%28map_191e9f7888c8418caab5c317c3d61be7%29%3B%0A%20%20%20%20%20%20%20%20%0A%20%20%20%20%0A%20%20%20%20%20%20%20%20var%20popup_a7660c5d8d534a0e9fa8a8de6688aff5%20%3D%20L.popup%28%7B%22maxWidth%22%3A%20%22100%25%22%7D%29%3B%0A%0A%20%20%20%20%20%20%20%20%0A%20%20%20%20%20%20%20%20%20%20%20%20var%20html_f3053413b72f478d92778cac197ab379%20%3D%20%24%28%60%3Cdiv%20id%3D%22html_f3053413b72f478d92778cac197ab379%22%20style%3D%22width%3A%20100.0%25%3B%20height%3A%20100.0%25%3B%22%3E%2840%2C%20-105%29%20%3A%204200%20listings%20here%3C/div%3E%60%29%5B0%5D%3B%0A%20%20%20%20%20%20%20%20%20%20%20%20popup_a7660c5d8d534a0e9fa8a8de6688aff5.setContent%28html_f3053413b72f478d92778cac197ab379%29%3B%0A%20%20%20%20%20%20%20%20%0A%0A%20%20%20%20%20%20%20%20circle_marker_8de43ca782884e0abb87851f061a6791.bindPopup%28popup_a7660c5d8d534a0e9fa8a8de6688aff5%29%0A%20%20%20%20%20%20%20%20%3B%0A%0A%20%20%20%20%20%20%20%20%0A%20%20%20%20%0A%3C/script%3E onload=\"this.contentDocument.open();this.contentDocument.write(    decodeURIComponent(this.getAttribute('data-html')));this.contentDocument.close();\" allowfullscreen webkitallowfullscreen mozallowfullscreen></iframe></div></div>"
      ],
      "text/plain": [
       "<folium.folium.Map at 0x7f6edeb32ed0>"
      ]
     },
     "execution_count": 20,
     "metadata": {},
     "output_type": "execute_result"
    }
   ],
   "source": [
    "\n",
    "from sklearn.cluster import KMeans\n",
    "\n",
    "km = KMeans().fit(numerical_data[['latitude', 'longitude']])\n",
    "km.cluster_centers_\n",
    "\n",
    "our_map = folium.Map([42, -110], zoom_start=4)\n",
    "\n",
    "for i in range(km.cluster_centers_.shape[0]):\n",
    "    total = sum(km.labels_ == i)\n",
    "    folium.CircleMarker([km.cluster_centers_[i,0], km.cluster_centers_[i,1]], \\\n",
    "                        popup = '('+ str(round(km.cluster_centers_[i,0])) + ', ' + str(round(km.cluster_centers_[i,1])) +') : ' +\\\n",
    "                        str(total) + ' listings here', radius = 15, fill_color='blue').add_to(our_map)\n",
    "\n",
    "our_map"
   ]
  },
  {
   "cell_type": "markdown",
   "metadata": {
    "papermill": {
     "duration": 0.042612,
     "end_time": "2021-03-14T03:01:17.910954",
     "exception": false,
     "start_time": "2021-03-14T03:01:17.868342",
     "status": "completed"
    },
    "tags": []
   },
   "source": [
    "We can definitely see discernible clusters of listings from our data through this visualization.\n",
    "\n",
    "#### 5.3 Reviews Per Month\n",
    "How do revies per month affect the average price?"
   ]
  },
  {
   "cell_type": "code",
   "execution_count": 21,
   "metadata": {
    "execution": {
     "iopub.execute_input": "2021-03-14T03:01:18.001761Z",
     "iopub.status.busy": "2021-03-14T03:01:18.001081Z",
     "iopub.status.idle": "2021-03-14T03:01:18.206498Z",
     "shell.execute_reply": "2021-03-14T03:01:18.206990Z"
    },
    "papermill": {
     "duration": 0.252572,
     "end_time": "2021-03-14T03:01:18.207177",
     "exception": false,
     "start_time": "2021-03-14T03:01:17.954605",
     "status": "completed"
    },
    "tags": []
   },
   "outputs": [
    {
     "name": "stderr",
     "output_type": "stream",
     "text": [
      "/opt/conda/lib/python3.7/site-packages/seaborn/_decorators.py:43: FutureWarning: Pass the following variables as keyword args: x, y. From version 0.12, the only valid positional argument will be `data`, and passing other arguments without an explicit keyword will result in an error or misinterpretation.\n",
      "  FutureWarning\n"
     ]
    },
    {
     "data": {
      "text/plain": [
       "<AxesSubplot:xlabel='reviews_per_month', ylabel='price'>"
      ]
     },
     "execution_count": 21,
     "metadata": {},
     "output_type": "execute_result"
    },
    {
     "data": {
      "image/png": "[encoded data removed]",
      "text/plain": [
       "<Figure size 720x432 with 1 Axes>"
      ]
     },
     "metadata": {
      "needs_background": "light"
     },
     "output_type": "display_data"
    }
   ],
   "source": [
    "plt.figure(figsize=(10,6))\n",
    "reviews_per_m = numerical_data.groupby('reviews_per_month', as_index=False).mean()[['reviews_per_month', 'price']]\n",
    "sns.scatterplot('reviews_per_month', 'price', data=reviews_per_m)"
   ]
  },
  {
   "cell_type": "markdown",
   "metadata": {
    "papermill": {
     "duration": 0.044555,
     "end_time": "2021-03-14T03:01:18.297463",
     "exception": false,
     "start_time": "2021-03-14T03:01:18.252908",
     "status": "completed"
    },
    "tags": []
   },
   "source": [
    "There also doesn't seem to be any discernible relationship between the number of reviews per month, and price.\n",
    "\n",
    "#### 5.4 Number of Reviews\n",
    "Now that we've seen the average number of views per month, we'll look at the total number of reviews next."
   ]
  },
  {
   "cell_type": "code",
   "execution_count": 22,
   "metadata": {
    "execution": {
     "iopub.execute_input": "2021-03-14T03:01:18.400116Z",
     "iopub.status.busy": "2021-03-14T03:01:18.399480Z",
     "iopub.status.idle": "2021-03-14T03:01:18.715336Z",
     "shell.execute_reply": "2021-03-14T03:01:18.714713Z"
    },
    "papermill": {
     "duration": 0.372898,
     "end_time": "2021-03-14T03:01:18.715517",
     "exception": false,
     "start_time": "2021-03-14T03:01:18.342619",
     "status": "completed"
    },
    "tags": []
   },
   "outputs": [
    {
     "name": "stderr",
     "output_type": "stream",
     "text": [
      "/opt/conda/lib/python3.7/site-packages/seaborn/_decorators.py:43: FutureWarning: Pass the following variables as keyword args: x, y. From version 0.12, the only valid positional argument will be `data`, and passing other arguments without an explicit keyword will result in an error or misinterpretation.\n",
      "  FutureWarning\n"
     ]
    },
    {
     "data": {
      "text/plain": [
       "<AxesSubplot:xlabel='number_of_reviews', ylabel='price'>"
      ]
     },
     "execution_count": 22,
     "metadata": {},
     "output_type": "execute_result"
    },
    {
     "data": {
      "image/png": "[encoded data removed]",
      "text/plain": [
       "<Figure size 720x432 with 1 Axes>"
      ]
     },
     "metadata": {
      "needs_background": "light"
     },
     "output_type": "display_data"
    }
   ],
   "source": [
    "plt.figure(figsize=(10,6))\n",
    "reviews_total = numerical_data.groupby('number_of_reviews', as_index=False).mean()\n",
    "sns.regplot('number_of_reviews', 'price', data=reviews_total, color='skyblue', line_kws={\"color\": \"blue\"})"
   ]
  },
  {
   "cell_type": "markdown",
   "metadata": {
    "papermill": {
     "duration": 0.04867,
     "end_time": "2021-03-14T03:01:18.812636",
     "exception": false,
     "start_time": "2021-03-14T03:01:18.763966",
     "status": "completed"
    },
    "tags": []
   },
   "source": [
    "There seems to be a general negative correlation between the total number of reviews and price! It is unclear which factor is at the cause here, or whether neither of them are. We'll keep this feature.\n",
    "\n",
    "#### 5.5 Availability\n",
    "Next, we'll look at availability"
   ]
  },
  {
   "cell_type": "code",
   "execution_count": 23,
   "metadata": {
    "execution": {
     "iopub.execute_input": "2021-03-14T03:01:18.920986Z",
     "iopub.status.busy": "2021-03-14T03:01:18.920212Z",
     "iopub.status.idle": "2021-03-14T03:01:19.241904Z",
     "shell.execute_reply": "2021-03-14T03:01:19.242527Z"
    },
    "papermill": {
     "duration": 0.381462,
     "end_time": "2021-03-14T03:01:19.242751",
     "exception": false,
     "start_time": "2021-03-14T03:01:18.861289",
     "status": "completed"
    },
    "tags": []
   },
   "outputs": [
    {
     "name": "stderr",
     "output_type": "stream",
     "text": [
      "/opt/conda/lib/python3.7/site-packages/seaborn/_decorators.py:43: FutureWarning: Pass the following variables as keyword args: x, y. From version 0.12, the only valid positional argument will be `data`, and passing other arguments without an explicit keyword will result in an error or misinterpretation.\n",
      "  FutureWarning\n"
     ]
    },
    {
     "data": {
      "text/plain": [
       "<AxesSubplot:xlabel='availability_365', ylabel='price'>"
      ]
     },
     "execution_count": 23,
     "metadata": {},
     "output_type": "execute_result"
    },
    {
     "data": {
      "image/png": "[encoded data removed]",
      "text/plain": [
       "<Figure size 720x432 with 1 Axes>"
      ]
     },
     "metadata": {
      "needs_background": "light"
     },
     "output_type": "display_data"
    }
   ],
   "source": [
    "plt.figure(figsize=(10,6))\n",
    "availability = numerical_data.groupby('availability_365', as_index=False).mean()\n",
    "sns.regplot('availability_365', 'price', data=availability, color='skyblue', line_kws={\"color\": \"blue\"})\n"
   ]
  },
  {
   "cell_type": "markdown",
   "metadata": {
    "papermill": {
     "duration": 0.050741,
     "end_time": "2021-03-14T03:01:19.343539",
     "exception": false,
     "start_time": "2021-03-14T03:01:19.292798",
     "status": "completed"
    },
    "tags": []
   },
   "source": [
    "We seem to have received a positive correlation here, which is the flip of our earlier feature. A larger availability seems to relate to a higher price. We will definitely keep this feature\n",
    "\n",
    "#### 5.6 Calculated Host Listings Count \n",
    "Our final feature"
   ]
  },
  {
   "cell_type": "code",
   "execution_count": 24,
   "metadata": {
    "execution": {
     "iopub.execute_input": "2021-03-14T03:01:19.455050Z",
     "iopub.status.busy": "2021-03-14T03:01:19.453993Z",
     "iopub.status.idle": "2021-03-14T03:01:19.729332Z",
     "shell.execute_reply": "2021-03-14T03:01:19.728628Z"
    },
    "papermill": {
     "duration": 0.335667,
     "end_time": "2021-03-14T03:01:19.729529",
     "exception": false,
     "start_time": "2021-03-14T03:01:19.393862",
     "status": "completed"
    },
    "tags": []
   },
   "outputs": [
    {
     "name": "stderr",
     "output_type": "stream",
     "text": [
      "/opt/conda/lib/python3.7/site-packages/seaborn/_decorators.py:43: FutureWarning: Pass the following variables as keyword args: x, y. From version 0.12, the only valid positional argument will be `data`, and passing other arguments without an explicit keyword will result in an error or misinterpretation.\n",
      "  FutureWarning\n"
     ]
    },
    {
     "data": {
      "text/plain": [
       "<AxesSubplot:xlabel='calculated_host_listings_count', ylabel='price'>"
      ]
     },
     "execution_count": 24,
     "metadata": {},
     "output_type": "execute_result"
    },
    {
     "data": {
      "image/png": "[encoded data removed]",
      "text/plain": [
       "<Figure size 432x288 with 1 Axes>"
      ]
     },
     "metadata": {
      "needs_background": "light"
     },
     "output_type": "display_data"
    }
   ],
   "source": [
    "calc_host_listings = numerical_data.groupby('calculated_host_listings_count', as_index=False).mean()\n",
    "sns.regplot('calculated_host_listings_count', 'price', data=calc_host_listings, color='skyblue', line_kws={\"color\": \"blue\"})\n"
   ]
  },
  {
   "cell_type": "markdown",
   "metadata": {
    "papermill": {
     "duration": 0.051242,
     "end_time": "2021-03-14T03:01:19.832955",
     "exception": false,
     "start_time": "2021-03-14T03:01:19.781713",
     "status": "completed"
    },
    "tags": []
   },
   "source": [
    "There doesnt seem to be a noticeable relationship here, and for that reason we'll leave this feature out.\n",
    "\n",
    "### 6. Building a model\n",
    "\n",
    "I'll be using A Linear Regression Model for this. In the following cells:\n",
    "+ Split the data into train/test\n",
    "+ Encode Categorical Data\n",
    "+ Fit the data on a Linear Regressor \n",
    "+ Predict y_test values\n",
    "+ Calculate the accuracy of the model"
   ]
  },
  {
   "cell_type": "code",
   "execution_count": 25,
   "metadata": {
    "execution": {
     "iopub.execute_input": "2021-03-14T03:01:19.946230Z",
     "iopub.status.busy": "2021-03-14T03:01:19.945551Z",
     "iopub.status.idle": "2021-03-14T03:01:19.955991Z",
     "shell.execute_reply": "2021-03-14T03:01:19.955224Z"
    },
    "papermill": {
     "duration": 0.070415,
     "end_time": "2021-03-14T03:01:19.956162",
     "exception": false,
     "start_time": "2021-03-14T03:01:19.885747",
     "status": "completed"
    },
    "tags": []
   },
   "outputs": [],
   "source": [
    "features = data[['room_type', 'minimum_nights', 'number_of_reviews', 'city', 'availability_365', 'latitude', 'longitude']]\n",
    "y = data[['price']]"
   ]
  },
  {
   "cell_type": "code",
   "execution_count": 26,
   "metadata": {
    "execution": {
     "iopub.execute_input": "2021-03-14T03:01:20.066485Z",
     "iopub.status.busy": "2021-03-14T03:01:20.065803Z",
     "iopub.status.idle": "2021-03-14T03:01:20.069371Z",
     "shell.execute_reply": "2021-03-14T03:01:20.068815Z"
    },
    "papermill": {
     "duration": 0.061355,
     "end_time": "2021-03-14T03:01:20.069577",
     "exception": false,
     "start_time": "2021-03-14T03:01:20.008222",
     "status": "completed"
    },
    "tags": []
   },
   "outputs": [],
   "source": [
    "from sklearn.metrics import mean_squared_error\n",
    "from sklearn.linear_model import LinearRegression\n",
    "from sklearn.model_selection import train_test_split\n",
    "from sklearn.preprocessing import LabelEncoder\n"
   ]
  },
  {
   "cell_type": "code",
   "execution_count": 27,
   "metadata": {
    "execution": {
     "iopub.execute_input": "2021-03-14T03:01:20.203235Z",
     "iopub.status.busy": "2021-03-14T03:01:20.198126Z",
     "iopub.status.idle": "2021-03-14T03:01:20.361318Z",
     "shell.execute_reply": "2021-03-14T03:01:20.360669Z"
    },
    "papermill": {
     "duration": 0.240201,
     "end_time": "2021-03-14T03:01:20.361486",
     "exception": false,
     "start_time": "2021-03-14T03:01:20.121285",
     "status": "completed"
    },
    "tags": []
   },
   "outputs": [
    {
     "name": "stderr",
     "output_type": "stream",
     "text": [
      "/opt/conda/lib/python3.7/site-packages/ipykernel_launcher.py:2: SettingWithCopyWarning: \n",
      "A value is trying to be set on a copy of a slice from a DataFrame.\n",
      "Try using .loc[row_indexer,col_indexer] = value instead\n",
      "\n",
      "See the caveats in the documentation: https://pandas.pydata.org/pandas-docs/stable/user_guide/indexing.html#returning-a-view-versus-a-copy\n",
      "  \n",
      "/opt/conda/lib/python3.7/site-packages/ipykernel_launcher.py:3: SettingWithCopyWarning: \n",
      "A value is trying to be set on a copy of a slice from a DataFrame.\n",
      "Try using .loc[row_indexer,col_indexer] = value instead\n",
      "\n",
      "See the caveats in the documentation: https://pandas.pydata.org/pandas-docs/stable/user_guide/indexing.html#returning-a-view-versus-a-copy\n",
      "  This is separate from the ipykernel package so we can avoid doing imports until\n"
     ]
    }
   ],
   "source": [
    "l = LabelEncoder()\n",
    "features['room_type_enc'] = l.fit_transform(features['room_type'])\n",
    "features['city_enc'] = l.fit_transform(features['city'])\n",
    "features = features.drop(columns=['city', 'room_type'])\n"
   ]
  },
  {
   "cell_type": "code",
   "execution_count": 28,
   "metadata": {
    "execution": {
     "iopub.execute_input": "2021-03-14T03:01:20.471495Z",
     "iopub.status.busy": "2021-03-14T03:01:20.470811Z",
     "iopub.status.idle": "2021-03-14T03:01:20.515075Z",
     "shell.execute_reply": "2021-03-14T03:01:20.514370Z"
    },
    "papermill": {
     "duration": 0.102329,
     "end_time": "2021-03-14T03:01:20.515219",
     "exception": false,
     "start_time": "2021-03-14T03:01:20.412890",
     "status": "completed"
    },
    "tags": []
   },
   "outputs": [],
   "source": [
    "x_train, x_test, y_train, y_test = train_test_split(features, y, test_size = 0.4, \n",
    "                                                    random_state = 2)\n"
   ]
  },
  {
   "cell_type": "code",
   "execution_count": 29,
   "metadata": {
    "execution": {
     "iopub.execute_input": "2021-03-14T03:01:20.627872Z",
     "iopub.status.busy": "2021-03-14T03:01:20.627136Z",
     "iopub.status.idle": "2021-03-14T03:01:20.683755Z",
     "shell.execute_reply": "2021-03-14T03:01:20.683149Z"
    },
    "papermill": {
     "duration": 0.115914,
     "end_time": "2021-03-14T03:01:20.683897",
     "exception": false,
     "start_time": "2021-03-14T03:01:20.567983",
     "status": "completed"
    },
    "tags": []
   },
   "outputs": [
    {
     "data": {
      "text/plain": [
       "LinearRegression()"
      ]
     },
     "execution_count": 29,
     "metadata": {},
     "output_type": "execute_result"
    }
   ],
   "source": [
    "regressor = LinearRegression()\n",
    "regressor.fit(x_train, y_train)"
   ]
  },
  {
   "cell_type": "code",
   "execution_count": 30,
   "metadata": {
    "execution": {
     "iopub.execute_input": "2021-03-14T03:01:20.801491Z",
     "iopub.status.busy": "2021-03-14T03:01:20.800157Z",
     "iopub.status.idle": "2021-03-14T03:01:20.807025Z",
     "shell.execute_reply": "2021-03-14T03:01:20.806372Z"
    },
    "papermill": {
     "duration": 0.071589,
     "end_time": "2021-03-14T03:01:20.807221",
     "exception": false,
     "start_time": "2021-03-14T03:01:20.735632",
     "status": "completed"
    },
    "tags": []
   },
   "outputs": [],
   "source": [
    "y_pred = regressor.predict(x_test)"
   ]
  },
  {
   "cell_type": "code",
   "execution_count": 31,
   "metadata": {
    "execution": {
     "iopub.execute_input": "2021-03-14T03:01:20.919156Z",
     "iopub.status.busy": "2021-03-14T03:01:20.918521Z",
     "iopub.status.idle": "2021-03-14T03:01:20.932995Z",
     "shell.execute_reply": "2021-03-14T03:01:20.932295Z"
    },
    "papermill": {
     "duration": 0.073103,
     "end_time": "2021-03-14T03:01:20.933158",
     "exception": false,
     "start_time": "2021-03-14T03:01:20.860055",
     "status": "completed"
    },
    "tags": []
   },
   "outputs": [
    {
     "data": {
      "text/html": [
       "<div>\n",
       "<style scoped>\n",
       "    .dataframe tbody tr th:only-of-type {\n",
       "        vertical-align: middle;\n",
       "    }\n",
       "\n",
       "    .dataframe tbody tr th {\n",
       "        vertical-align: top;\n",
       "    }\n",
       "\n",
       "    .dataframe thead th {\n",
       "        text-align: right;\n",
       "    }\n",
       "</style>\n",
       "<table border=\"1\" class=\"dataframe\">\n",
       "  <thead>\n",
       "    <tr style=\"text-align: right;\">\n",
       "      <th></th>\n",
       "      <th>index</th>\n",
       "      <th>price</th>\n",
       "      <th>Predicted</th>\n",
       "    </tr>\n",
       "  </thead>\n",
       "  <tbody>\n",
       "    <tr>\n",
       "      <th>0</th>\n",
       "      <td>25754</td>\n",
       "      <td>165</td>\n",
       "      <td>264.382656</td>\n",
       "    </tr>\n",
       "    <tr>\n",
       "      <th>1</th>\n",
       "      <td>192832</td>\n",
       "      <td>55</td>\n",
       "      <td>167.908964</td>\n",
       "    </tr>\n",
       "    <tr>\n",
       "      <th>2</th>\n",
       "      <td>201600</td>\n",
       "      <td>450</td>\n",
       "      <td>312.317711</td>\n",
       "    </tr>\n",
       "    <tr>\n",
       "      <th>3</th>\n",
       "      <td>120477</td>\n",
       "      <td>122</td>\n",
       "      <td>288.010207</td>\n",
       "    </tr>\n",
       "    <tr>\n",
       "      <th>4</th>\n",
       "      <td>76222</td>\n",
       "      <td>95</td>\n",
       "      <td>149.893624</td>\n",
       "    </tr>\n",
       "    <tr>\n",
       "      <th>5</th>\n",
       "      <td>35171</td>\n",
       "      <td>150</td>\n",
       "      <td>106.763152</td>\n",
       "    </tr>\n",
       "    <tr>\n",
       "      <th>6</th>\n",
       "      <td>82949</td>\n",
       "      <td>63</td>\n",
       "      <td>208.618303</td>\n",
       "    </tr>\n",
       "    <tr>\n",
       "      <th>7</th>\n",
       "      <td>147448</td>\n",
       "      <td>95</td>\n",
       "      <td>110.902304</td>\n",
       "    </tr>\n",
       "    <tr>\n",
       "      <th>8</th>\n",
       "      <td>98540</td>\n",
       "      <td>90</td>\n",
       "      <td>304.311093</td>\n",
       "    </tr>\n",
       "    <tr>\n",
       "      <th>9</th>\n",
       "      <td>172335</td>\n",
       "      <td>234</td>\n",
       "      <td>239.327096</td>\n",
       "    </tr>\n",
       "  </tbody>\n",
       "</table>\n",
       "</div>"
      ],
      "text/plain": [
       "    index  price   Predicted\n",
       "0   25754    165  264.382656\n",
       "1  192832     55  167.908964\n",
       "2  201600    450  312.317711\n",
       "3  120477    122  288.010207\n",
       "4   76222     95  149.893624\n",
       "5   35171    150  106.763152\n",
       "6   82949     63  208.618303\n",
       "7  147448     95  110.902304\n",
       "8   98540     90  304.311093\n",
       "9  172335    234  239.327096"
      ]
     },
     "execution_count": 31,
     "metadata": {},
     "output_type": "execute_result"
    }
   ],
   "source": [
    "act_v_pred = pd.DataFrame(y_test).reset_index()\n",
    "act_v_pred['Predicted'] = y_pred\n",
    "act_v_pred.head(10)"
   ]
  },
  {
   "cell_type": "code",
   "execution_count": 32,
   "metadata": {
    "execution": {
     "iopub.execute_input": "2021-03-14T03:01:21.050022Z",
     "iopub.status.busy": "2021-03-14T03:01:21.047188Z",
     "iopub.status.idle": "2021-03-14T03:01:21.056722Z",
     "shell.execute_reply": "2021-03-14T03:01:21.056057Z"
    },
    "papermill": {
     "duration": 0.069859,
     "end_time": "2021-03-14T03:01:21.056897",
     "exception": false,
     "start_time": "2021-03-14T03:01:20.987038",
     "status": "completed"
    },
    "tags": []
   },
   "outputs": [
    {
     "data": {
      "text/plain": [
       "580.3556884036719"
      ]
     },
     "execution_count": 32,
     "metadata": {},
     "output_type": "execute_result"
    }
   ],
   "source": [
    "mean_squared_error(y_pred, y_test, squared=False)"
   ]
  }
 ],
 "metadata": {
  "kernelspec": {
   "display_name": "Python 3",
   "language": "python",
   "name": "python3"
  },
  "language_info": {
   "codemirror_mode": {
    "name": "ipython",
    "version": 3
   },
   "file_extension": ".py",
   "mimetype": "text/x-python",
   "name": "python",
   "nbconvert_exporter": "python",
   "pygments_lexer": "ipython3",
   "version": "3.7.9"
  },
  "papermill": {
   "default_parameters": {},
   "duration": 30.739694,
   "end_time": "2021-03-14T03:01:21.924260",
   "environment_variables": {},
   "exception": null,
   "input_path": "__notebook__.ipynb",
   "output_path": "__notebook__.ipynb",
   "parameters": {},
   "start_time": "2021-03-14T03:00:51.184566",
   "version": "2.2.2"
  }
 },
 "nbformat": 4,
 "nbformat_minor": 4
}
